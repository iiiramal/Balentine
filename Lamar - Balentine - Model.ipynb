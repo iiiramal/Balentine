{
 "cells": [
  {
   "cell_type": "markdown",
   "id": "db1617c8",
   "metadata": {},
   "source": [
    "# Import Dependencies"
   ]
  },
  {
   "cell_type": "code",
   "execution_count": null,
   "id": "27fdf457",
   "metadata": {},
   "outputs": [],
   "source": [
    "#from IPython.core.display import display, HTML\n",
    "#display(HTML(\"<style>.container { width:100% !important; }</style>\"))"
   ]
  },
  {
   "cell_type": "code",
   "execution_count": null,
   "id": "7fa2f9a1",
   "metadata": {},
   "outputs": [],
   "source": [
    "#pip install fredapi "
   ]
  },
  {
   "cell_type": "code",
   "execution_count": null,
   "id": "2cb3b2ab",
   "metadata": {},
   "outputs": [],
   "source": [
    "from os import path\n",
    "import pandas as pd\n",
    "import matplotlib.pyplot as plt\n",
    "import plotly.express as px\n",
    "from plotly.subplots import make_subplots\n",
    "import plotly.figure_factory as ff\n",
    "import numpy as np\n",
    "import datetime\n",
    "import seaborn as sn\n",
    "from fredapi import Fred \n",
    "fred = Fred(api_key='45071d0d8c02d0f45bf4ea219541507f')\n",
    "plt.rcParams['figure.figsize'] = [12, 8]\n",
    "currentYear = datetime.datetime.now().year\n",
    "\n",
    "russell_path = 'Resources/Returns for AJ.xlsx'\n",
    "inflation_path = 'Resources/inflation_rates.xlsx'\n",
    "fed_rate_path = 'Resources/fed-funds-rate-historical-chart.csv'\n",
    "unemployment = fred.get_series('UNRATE', observation_start='1970-1-1')\n",
    "housing_starts = fred.get_series('HOUST2FNSA', observation_start='1970-1-1') # seasonally ajusted non-fram employment in thousands \n",
    "cci_path = 'Resources/cci.csv'\n",
    "man_emp = fred.get_series('MANEMP', observation_start='1970-1-1') # seasonally ajusted non-fram employment in thousands "
   ]
  },
  {
   "cell_type": "markdown",
   "id": "061843dd",
   "metadata": {},
   "source": [
    "# Create Initial Dataframes"
   ]
  },
  {
   "cell_type": "code",
   "execution_count": null,
   "id": "973164bd",
   "metadata": {},
   "outputs": [],
   "source": [
    "russell_df = pd.read_excel(russell_path, header=1)\n",
    "inflation_df = pd.read_excel(inflation_path, header=0)\n",
    "fed_rate_df = pd.read_csv(fed_rate_path)\n",
    "unemployment_df = unemployment.reset_index().rename(columns = {'index': 'date', 0 :'UNRATE'})\n",
    "housing_starts_df = housing_starts.reset_index().rename(columns = {'index': 'date', 0 :'Housing Starts'})\n",
    "cci_df = pd.read_csv(cci_path)\n",
    "man_emp_df = man_emp.reset_index().rename(columns = {'index': 'date', 0 :'MANEMP'})"
   ]
  },
  {
   "cell_type": "code",
   "execution_count": null,
   "id": "7cc0dc6a",
   "metadata": {},
   "outputs": [],
   "source": [
    "# Creat time_period variable for future calculations\n",
    "\n",
    "time_period = len(russell_df)/12"
   ]
  },
  {
   "cell_type": "markdown",
   "id": "e5835d09",
   "metadata": {},
   "source": [
    "# Defining Formulas"
   ]
  },
  {
   "cell_type": "code",
   "execution_count": null,
   "id": "e83005d6",
   "metadata": {},
   "outputs": [],
   "source": [
    "# Will correct any dates converted incorrectly (> 2022)\n",
    "def datefix(x):\n",
    "    if x.year > currentYear:\n",
    "        year = x.year - 100\n",
    "    else:\n",
    "        year = x.year\n",
    "    return datetime.date(year,x.month,x.day)\n",
    "\n",
    "#Will Calculate quarter based on month number\n",
    "def quartercalc(month):\n",
    "    quarter = 0\n",
    "    if month in [1,2,3]:\n",
    "        quarter = 1\n",
    "    if month in [4,5,6]:\n",
    "        quarter = 2\n",
    "    if month in [7,8,9]:\n",
    "        quarter = 3\n",
    "    if month in [10,11,12]:\n",
    "        quarter = 4\n",
    "    return(quarter)\n",
    "\n",
    "# Will convert 3 letter month codes to number. (Jan = 1, Dec = 12)\n",
    "def monthconvert(month):\n",
    "    datetime_object = datetime.datetime.strptime(month, \"%b\")\n",
    "    month_number = datetime_object.month\n",
    "    return(month_number)\n",
    "\n",
    "# Will convert percentage values to decimal\n",
    "\n",
    "def percentageconvert(value):\n",
    "    return (value / 100)\n",
    "\n",
    "#Will add one to decimal percentage to allow for compounding. \n",
    "\n",
    "def percentagecompound(value):\n",
    "    return value + 1\n",
    "\n",
    "#Will subtract one from value created by percentagecompound.\n",
    "\n",
    "def percentreverse(value):\n",
    "    return (value-1)\n",
    "\n",
    "#Will multiply percentage value times 100. \n",
    "\n",
    "def hundred(value):\n",
    "    return(value)*100\n",
    "\n",
    "#Will determine annualized returns from monthly values. \n",
    "\n",
    "def annualfrommonthlyreturns(value):\n",
    "    return (((value + 1)**12) - 1)\n",
    "\n",
    "#Will determine annualized returns from monthly values. \n",
    "\n",
    "def annualfrommonthlystd(value):\n",
    "    return value * (12**1/2)\n",
    "\n",
    "#Will determine annualized returns from monthly values. \n",
    "\n",
    "def annualfromquarterlystd(value):\n",
    "    return value * (4**1/2)\n",
    "\n",
    "\n",
    "#def highlightTrades(value):\n",
    " #   if 'Trade' in value:\n",
    "  #      return ['background-color: Green']\n",
    " \n",
    "# Swaps favor for portfolio names.     \n",
    "def portswitch(value):\n",
    "    if value == 'Russell 1000 Core':\n",
    "        return 'Core Weighted'\n",
    "    if value == 'Russell 1000 Growth':\n",
    "        return 'Growth Weighted'\n",
    "    if value == 'Russell 1000 Value':\n",
    "        return 'Value Weighted'\n",
    "    \n",
    "#Assign Buy / Sell directions\n",
    "def advtradeflag(value):\n",
    "    if value > 0: \n",
    "        return(f'Buy: {round(value*100,4)}%')\n",
    "    if value < 0: \n",
    "        return(f'Sell: {round(value*100,4)}%')\n",
    "    if value == 0: \n",
    "        return(f'Do Not Trade')"
   ]
  },
  {
   "cell_type": "markdown",
   "id": "8223b877",
   "metadata": {},
   "source": [
    "# Data Cleaning"
   ]
  },
  {
   "cell_type": "code",
   "execution_count": null,
   "id": "6ac35f9b",
   "metadata": {},
   "outputs": [],
   "source": [
    "#Creates Month, Day, Year Columns, and converts to numbers. \n",
    "unemployment_df['Month'] = unemployment_df['date'].astype(str).str.split('-').str[1]\n",
    "unemployment_df['Day'] = unemployment_df['date'].astype(str).str.split('-').str[2]\n",
    "unemployment_df['YEAR'] = unemployment_df['date'].astype(str).str.split('-').str[0]\n",
    "unemployment_df[['Month', 'YEAR', 'Day']] = unemployment_df[['Month', 'YEAR', 'Day']].apply(pd.to_numeric)\n",
    "\n",
    "# Adds century to YY\n",
    "#man_emp_df.loc[man_emp_df['YEAR'] + 2000 > currentYear, \"YEAR\"] = man_emp_df['YEAR'] + 1900\n",
    "#man_emp_df.loc[man_emp_df['YEAR'] + 2000 <= currentYear, \"YEAR\"] = man_emp_df['YEAR'] + 2000\n",
    "\n",
    "#Calculates Change and Percentage Change\n",
    "unemployment_df['Unemployment Change'] =  unemployment_df['UNRATE'].shift(-1) - unemployment_df['UNRATE']\n",
    "unemployment_df['Unemployment Change (Pct)'] = (unemployment_df['Unemployment Change'] / unemployment_df['UNRATE'])*100\n",
    "\n",
    "#Sets index and removes unwanted columns / rows. \n",
    "unemployment_df = unemployment_df.set_index('YEAR')\n",
    "unemployment_df = unemployment_df.drop(columns = ['date','Day'])\n",
    "unemployment_df = unemployment_df[(unemployment_df.index > 1978) & (unemployment_df.index < 2016)]\n",
    "\n",
    "unemployment_df"
   ]
  },
  {
   "cell_type": "code",
   "execution_count": null,
   "id": "40d7a1e8",
   "metadata": {},
   "outputs": [],
   "source": [
    "# Parses Date numbers from date, converts them to numbers. \n",
    "fed_rate_df['Month'] = fed_rate_df['date'].str.split('/').str[0]\n",
    "fed_rate_df['Day'] = fed_rate_df['date'].str.split('/').str[1]\n",
    "fed_rate_df['YEAR'] = fed_rate_df['date'].str.split('/').str[2]\n",
    "fed_rate_df[['Month', 'YEAR', 'Day']] = fed_rate_df[['Month', 'YEAR', 'Day']].apply(pd.to_numeric)\n",
    "\n",
    "#converts 'date' to datetime\n",
    "fed_rate_df['date'] = pd.to_datetime(fed_rate_df['date'])\n",
    "\n",
    "#adds 1900/2000 to 'YEAR', to update from YY to YYYY, and sets as index\n",
    "fed_rate_df.loc[fed_rate_df['YEAR'] + 2000 > currentYear, \"YEAR\"] = fed_rate_df['YEAR'] + 1900\n",
    "fed_rate_df.loc[fed_rate_df['YEAR'] + 2000 <= currentYear, \"YEAR\"] = fed_rate_df['YEAR'] + 2000\n",
    "fed_rate_df = fed_rate_df.set_index('YEAR')\n",
    "\n",
    "#Applies date fix \n",
    "fed_rate_df['date'] = fed_rate_df['date'].apply(datefix)\n",
    "\n",
    "#fed_rate_df"
   ]
  },
  {
   "cell_type": "code",
   "execution_count": null,
   "id": "5ba2fe51",
   "metadata": {},
   "outputs": [],
   "source": [
    "# Creates list (DF) of values to keep. \n",
    "\n",
    "fed_rate_delete = fed_rate_df.copy()\n",
    "fed_rate_delete = fed_rate_delete.drop([' value'], axis = 1)\n",
    "fed_rate_delete = fed_rate_delete.groupby(['Month', 'YEAR'], as_index=False, sort = True).max()\n",
    "fed_rate_delete = fed_rate_delete.drop(columns =['Month','Day'])\n",
    "\n",
    "#fed_rate_delete"
   ]
  },
  {
   "cell_type": "code",
   "execution_count": null,
   "id": "fe065e85",
   "metadata": {},
   "outputs": [],
   "source": [
    "# Finds dates that are in the fed_rate_delete list and created new dataframe\n",
    "fed_rate_df_clean = fed_rate_df.loc[fed_rate_df['date'].isin(fed_rate_delete['date'])].copy()\n",
    "\n",
    "# Calculated change and pct change in Fed Rate\n",
    "fed_rate_df_clean['Fed Rate Change'] =  fed_rate_df_clean[' value'].shift(-1) - fed_rate_df_clean[' value']\n",
    "fed_rate_df_clean['Fed Rate Change (Pct)'] = (fed_rate_df_clean['Fed Rate Change'] / fed_rate_df_clean[' value'])*100\n",
    "\n",
    "# Removes years outside of scope, and deletes unwanted columns\n",
    "fed_rate_df_clean = fed_rate_df_clean[(fed_rate_df_clean.index > 1978) & (fed_rate_df_clean.index < 2016)]\n",
    "fed_rate_df_clean = fed_rate_df_clean.drop(columns = ['Day'])\n",
    "\n",
    "# Calculates Quarter from Month\n",
    "fed_rate_df_clean['Quarter'] = fed_rate_df_clean['Month'].apply(quartercalc)\n",
    "\n",
    "#fed_rate_df_clean"
   ]
  },
  {
   "cell_type": "code",
   "execution_count": null,
   "id": "70f4db87",
   "metadata": {},
   "outputs": [],
   "source": [
    "#Transposes dataset, drops unused columns, and renames remaining. \n",
    "inflation_df2 = inflation_df.set_index('YEAR')\n",
    "inflation_df2 = inflation_df2.drop(columns = 'AVE')\n",
    "inflation_df2 = inflation_df2.reset_index().melt(id_vars=['YEAR']).set_index(['YEAR'])\n",
    "inflation_df2 = inflation_df2.rename(columns = {'variable': 'Month', 'value': 'Inflation Rate'})\n",
    "\n",
    "#inflation_df2.head()"
   ]
  },
  {
   "cell_type": "code",
   "execution_count": null,
   "id": "11defc43",
   "metadata": {},
   "outputs": [],
   "source": [
    "# Converts month codes to numbers. \n",
    "inflation_df2['Month'] = inflation_df2.apply(lambda row: monthconvert(row['Month']),axis=1)\n",
    "\n",
    "#Sorts DF by year and month\n",
    "inflation_df2 = inflation_df2.sort_values(by=['YEAR', \"Month\"])\n",
    "\n",
    "#Calculates change in inflation and percentage change in inflation. \n",
    "\n",
    "inflation_df2['Inflation Change'] =  inflation_df2['Inflation Rate'].shift(-1) - inflation_df2['Inflation Rate']\n",
    "inflation_df2['Inflation Change (Pct)'] = (inflation_df2['Inflation Change'] / inflation_df2['Inflation Rate'])*100\n",
    "\n",
    "# Removes Years out of scope. \n",
    "inflation_df2 = inflation_df2[(inflation_df2.index > 1978) & (inflation_df2.index < 2016)]\n",
    "\n",
    "#inflation_df2"
   ]
  },
  {
   "cell_type": "code",
   "execution_count": null,
   "id": "51bf95aa",
   "metadata": {},
   "outputs": [],
   "source": [
    "# Creates Month and Year columns based on Date column, and converts them to numbers. \n",
    "russell_df['Month'] = russell_df['Date'].str.split('/').str[0]\n",
    "russell_df['YEAR'] = russell_df['Date'].str.split('/').str[1]\n",
    "russell_df[['Month', 'YEAR']] = russell_df[['Month', 'YEAR']].apply(pd.to_numeric)\n",
    "\n",
    "# Converts YEAR column to YYYY from YY. \n",
    "russell_df.loc[russell_df['YEAR'] + 2000 > currentYear, \"YEAR\"] = russell_df['YEAR'] + 1900\n",
    "russell_df.loc[russell_df['YEAR'] + 2000 <= currentYear, \"YEAR\"] = russell_df['YEAR'] + 2000\n",
    "\n",
    "# Remove Unwanted Columns\n",
    "russell_df = russell_df.drop(columns = ['Unnamed: 0', 'Date'])\n",
    "\n",
    "#russell_df.head()"
   ]
  },
  {
   "cell_type": "markdown",
   "id": "663ad142",
   "metadata": {},
   "source": [
    "# Begin Merging Dataframes total dataset"
   ]
  },
  {
   "cell_type": "code",
   "execution_count": null,
   "id": "35f6c766",
   "metadata": {},
   "outputs": [],
   "source": [
    "# Merge Inflation and Fed Rate Dataframes\n",
    "\n",
    "market_merge_df = pd.merge(inflation_df2, fed_rate_df_clean, on = ['Month','YEAR'], how = 'left')\n",
    "\n",
    "#market_merge_df"
   ]
  },
  {
   "cell_type": "code",
   "execution_count": null,
   "id": "c06ddb73",
   "metadata": {},
   "outputs": [],
   "source": [
    "# Merger market_merge_df with unemployment. \n",
    "\n",
    "market_merge_df = pd.merge(market_merge_df,unemployment_df , on = ['Month','YEAR'], how = 'left')\n",
    "market_merge_df = market_merge_df.reset_index()\n",
    "\n",
    "#market_merge_df"
   ]
  },
  {
   "cell_type": "code",
   "execution_count": null,
   "id": "87b21196",
   "metadata": {},
   "outputs": [],
   "source": [
    "#Declare column headers, drop unused columns, and reorder columns based on list\n",
    "\n",
    "column_list = ['date', 'Month', 'Quarter','YEAR','Fed Rate Change', 'Fed Rate Change (Pct)','Unemployment Change','Unemployment Change (Pct)','Inflation Change', 'Inflation Change (Pct)']\n",
    "market_merge_df = market_merge_df.drop(columns = [' value', 'UNRATE', 'Inflation Rate'])\n",
    "market_merge_df = market_merge_df.reindex(columns = column_list)\n",
    "\n",
    "#market_merge_df\n"
   ]
  },
  {
   "cell_type": "code",
   "execution_count": null,
   "id": "c7f54fcd",
   "metadata": {},
   "outputs": [],
   "source": [
    "# Merger Russell data to market data\n",
    "\n",
    "market_merge_df = pd.merge(market_merge_df,russell_df , on = ['Month','YEAR'], how = 'left')\n",
    "\n",
    "#market_merge_df"
   ]
  },
  {
   "cell_type": "code",
   "execution_count": null,
   "id": "171a9ce0",
   "metadata": {},
   "outputs": [],
   "source": [
    "# Set Index to Year, Quarter, Month, Date\n",
    "\n",
    "market_merge_df_indexed = market_merge_df.set_index(['YEAR','Quarter','Month','date'])\n",
    "\n",
    "#market_merge_df_indexed"
   ]
  },
  {
   "cell_type": "markdown",
   "id": "9b0d1d28",
   "metadata": {},
   "source": [
    "# Monthly Market Data w/ Indicator Change"
   ]
  },
  {
   "cell_type": "code",
   "execution_count": null,
   "id": "b6b74392",
   "metadata": {},
   "outputs": [],
   "source": [
    "# Create Monthly Market Data DF w/ changes (no pct changes)\n",
    "market_merge_df_no_pct = market_merge_df_indexed.drop(columns = ['Fed Rate Change (Pct)', 'Unemployment Change (Pct)','Inflation Change (Pct)']).copy()\n",
    "market_merge_df_no_pct = market_merge_df_no_pct[['Russell 1000 Core','Russell 1000 Growth','Russell 1000 Value','Fed Rate Change','Unemployment Change','Inflation Change']]\n",
    "\n",
    "#market_merge_df_no_pct\n"
   ]
  },
  {
   "cell_type": "markdown",
   "id": "fd7bfd14",
   "metadata": {},
   "source": [
    "# Splitting Indicator Dataframe to Create Quarterly / Yearly Dataframes."
   ]
  },
  {
   "cell_type": "code",
   "execution_count": null,
   "id": "27d52f80",
   "metadata": {},
   "outputs": [],
   "source": [
    "# Splitting monthly Indicator data from market dataframe\n",
    "monthly_indicator_data = market_merge_df_no_pct[['Fed Rate Change', 'Unemployment Change','Inflation Change']].reset_index().groupby(['YEAR','Quarter','Month']).agg({'date':'max','Fed Rate Change': 'sum','Unemployment Change': 'sum','Inflation Change': 'sum'}).reset_index().set_index(['YEAR', 'Quarter','Month', 'date'])\n",
    "\n",
    "#monthly_indicator_data\n"
   ]
  },
  {
   "cell_type": "markdown",
   "id": "0c4c39c2",
   "metadata": {},
   "source": [
    "# Quarterly"
   ]
  },
  {
   "cell_type": "code",
   "execution_count": null,
   "id": "e248684f",
   "metadata": {},
   "outputs": [],
   "source": [
    "# Aggregating indicator data quarterly\n",
    "quarterly_indicator_data = market_merge_df_no_pct[['Fed Rate Change', 'Unemployment Change','Inflation Change']].reset_index().drop(columns = 'Month').groupby(['YEAR','Quarter']).agg({'date':'max','Fed Rate Change': 'sum','Unemployment Change': 'sum','Inflation Change': 'sum'}).reset_index().set_index(['YEAR', 'Quarter', 'date'])\n",
    "\n",
    "#quarterly_indicator_data"
   ]
  },
  {
   "cell_type": "markdown",
   "id": "eb3220c6",
   "metadata": {},
   "source": [
    "# Yearly"
   ]
  },
  {
   "cell_type": "code",
   "execution_count": null,
   "id": "94459d68",
   "metadata": {},
   "outputs": [],
   "source": [
    "# Aggregating indicator data, yearly. \n",
    "\n",
    "yearly_indicator_data = market_merge_df_no_pct[['Fed Rate Change', 'Unemployment Change','Inflation Change']].reset_index().drop(columns = ['Month','Quarter']).groupby(['YEAR']).agg({'date':'max','Fed Rate Change': 'sum','Unemployment Change': 'sum','Inflation Change': 'sum'}).reset_index().set_index(['YEAR', 'date'])\n",
    "\n",
    "#yearly_indicator_data"
   ]
  },
  {
   "cell_type": "markdown",
   "id": "3784a681",
   "metadata": {},
   "source": [
    "# # Monthly Market Data w/ Indicator Change (Pct)"
   ]
  },
  {
   "cell_type": "code",
   "execution_count": null,
   "id": "c490c23a",
   "metadata": {},
   "outputs": [],
   "source": [
    "# Creating monthly dataframe with pct changes\n",
    "market_merge_pct_monthly = market_merge_df_indexed.drop(columns = ['Fed Rate Change', 'Unemployment Change','Inflation Change']).reindex(columns = ['Russell 1000 Core','Russell 1000 Growth','Russell 1000 Value','Fed Rate Change (Pct)','Unemployment Change (Pct)','Inflation Change (Pct)']).copy()\n",
    "\n",
    "#market_merge_pct_monthly"
   ]
  },
  {
   "cell_type": "markdown",
   "id": "9f715113",
   "metadata": {},
   "source": [
    "# Monthly Market Data For Compounding"
   ]
  },
  {
   "cell_type": "markdown",
   "id": "03e9c5e8",
   "metadata": {},
   "source": [
    "# Splitting Compounding Dataframe to Create Quarterly / Yearly Dataframes. "
   ]
  },
  {
   "cell_type": "code",
   "execution_count": null,
   "id": "4dcd18f5",
   "metadata": {},
   "outputs": [],
   "source": [
    "#Removing non percentage columns from dataframe to create compounding dataframe (/100 + 1 to returns and pct changes)\n",
    "market_merge_df_compound = market_merge_df_indexed.drop(columns = ['Fed Rate Change', 'Unemployment Change','Inflation Change']).copy()\n",
    "market_merge_df_compound = market_merge_df_compound[['Russell 1000 Core','Russell 1000 Growth','Russell 1000 Value','Fed Rate Change (Pct)','Unemployment Change (Pct)','Inflation Change (Pct)']].apply(percentageconvert).apply(percentagecompound)\n",
    "market_merge_df_compound = market_merge_df_compound.replace([np.inf, -np.inf],1)\n",
    "\n",
    "market_merge_df_compound\n"
   ]
  },
  {
   "cell_type": "markdown",
   "id": "ca796f32",
   "metadata": {},
   "source": [
    "## Quarterly"
   ]
  },
  {
   "cell_type": "code",
   "execution_count": null,
   "id": "b93a6ca6",
   "metadata": {
    "scrolled": true
   },
   "outputs": [],
   "source": [
    "# Aggregating russell pct dataframe quarterly\n",
    "quarterly_strat_data = market_merge_df_compound[['Russell 1000 Core', 'Russell 1000 Growth','Russell 1000 Value']].reset_index().drop(columns = 'Month').groupby(['YEAR','Quarter']).agg({'date':'max','Russell 1000 Core': 'prod','Russell 1000 Growth': 'prod','Russell 1000 Value': 'prod'}).reset_index().set_index(['YEAR', 'Quarter', 'date']).apply(percentreverse)\n",
    "\n",
    "#quarterly_strat_data"
   ]
  },
  {
   "cell_type": "markdown",
   "id": "49b27605",
   "metadata": {},
   "source": [
    "## Yearly"
   ]
  },
  {
   "cell_type": "code",
   "execution_count": null,
   "id": "7aff0337",
   "metadata": {},
   "outputs": [],
   "source": [
    "# Aggregating russell pct dataframe yearly\n",
    "\n",
    "yearly_strat_data = market_merge_df_compound[['Russell 1000 Core', 'Russell 1000 Growth','Russell 1000 Value']].reset_index().drop(columns = ['Month', 'Quarter']).groupby(['YEAR']).agg({'date':'max','Russell 1000 Core': 'prod','Russell 1000 Growth': 'prod','Russell 1000 Value': 'prod'}).reset_index().set_index(['YEAR','date']).apply(percentreverse).round(6)\n",
    "\n",
    "#yearly_strat_data\n"
   ]
  },
  {
   "cell_type": "markdown",
   "id": "74d4d7c8",
   "metadata": {},
   "source": [
    "# Completed Data Frames"
   ]
  },
  {
   "cell_type": "markdown",
   "id": "06ea5449",
   "metadata": {},
   "source": [
    "# Simple"
   ]
  },
  {
   "cell_type": "markdown",
   "id": "c3019e26",
   "metadata": {},
   "source": [
    "### Monthly"
   ]
  },
  {
   "cell_type": "code",
   "execution_count": null,
   "id": "133610a3",
   "metadata": {},
   "outputs": [],
   "source": [
    "# Simple, monthly indicator changes + russell returns. \n",
    "\n",
    "monthly_indicator_join = monthly_indicator_data.reset_index().drop(columns = ['YEAR', 'Quarter','Month'])\n",
    "monthly_strat_join = market_merge_df_compound.reset_index().drop(columns = ['YEAR','Quarter','Month','Fed Rate Change (Pct)','Unemployment Change (Pct)', 'Inflation Change (Pct)']).set_index('date').apply(percentreverse)\n",
    "simple_monthly_md = pd.merge(monthly_strat_join,monthly_indicator_join, how = 'left', on = 'date').set_index('date')\n",
    "\n",
    "simple_monthly_md\n"
   ]
  },
  {
   "cell_type": "markdown",
   "id": "95ea41ea",
   "metadata": {},
   "source": [
    "## Quarterly"
   ]
  },
  {
   "cell_type": "code",
   "execution_count": null,
   "id": "de09b9e5",
   "metadata": {},
   "outputs": [],
   "source": [
    "# Simple, quarterly indicator changes + russell returns. \n",
    "\n",
    "quarterly_indicator_join = quarterly_indicator_data.reset_index().drop(columns = ['YEAR', 'Quarter'])\n",
    "quarterly_strat_join = quarterly_strat_data.reset_index().drop(columns = ['YEAR', 'Quarter'])\n",
    "simple_quarterly_md = pd.merge(quarterly_strat_join,quarterly_indicator_join, how = 'left', on = 'date').set_index('date')\n",
    "\n",
    "simple_quarterly_md\n"
   ]
  },
  {
   "cell_type": "markdown",
   "id": "654ae4bf",
   "metadata": {},
   "source": [
    "## Yearly"
   ]
  },
  {
   "cell_type": "code",
   "execution_count": null,
   "id": "ef319833",
   "metadata": {},
   "outputs": [],
   "source": [
    "# Simple, yearly indicator changes + russell returns. \n",
    "\n",
    "yearly_indicator_join = yearly_indicator_data.reset_index().drop(columns = ['YEAR'])\n",
    "yearly_strat_join = yearly_strat_data.reset_index().drop(columns = ['YEAR'])\n",
    "simple_yearly_md = pd.merge(yearly_strat_join,yearly_indicator_join, how = 'left', on = 'date').set_index('date')\n",
    "\n",
    "simple_yearly_md"
   ]
  },
  {
   "cell_type": "markdown",
   "id": "214bf867",
   "metadata": {},
   "source": [
    "## Relative"
   ]
  },
  {
   "cell_type": "markdown",
   "id": "4b296184",
   "metadata": {},
   "source": [
    "### Monthly - Relative"
   ]
  },
  {
   "cell_type": "code",
   "execution_count": null,
   "id": "bdbe326f",
   "metadata": {},
   "outputs": [],
   "source": [
    "# Relative, Monthly indicator changes + russell returns. \n",
    "\n",
    "relative_monthly_md = market_merge_df_compound.reset_index().drop(columns = ['YEAR','Quarter','Month']).set_index('date').apply(percentreverse)\n",
    "\n",
    "relative_monthly_md\n"
   ]
  },
  {
   "cell_type": "markdown",
   "id": "02b23c52",
   "metadata": {},
   "source": [
    "## Quarterly - Relative"
   ]
  },
  {
   "cell_type": "code",
   "execution_count": null,
   "id": "4c88a05f",
   "metadata": {},
   "outputs": [],
   "source": [
    "# Relative, Quarterly indicator changes + russell returns. \n",
    "\n",
    "relative_quarterly_md = market_merge_df_compound.reset_index().drop(columns = ['Month']).groupby(['YEAR','Quarter']).agg({'date':'max','Russell 1000 Core': 'prod','Russell 1000 Growth': 'prod','Russell 1000 Value': 'prod','Fed Rate Change (Pct)': 'prod','Unemployment Change (Pct)': 'prod','Inflation Change (Pct)': 'prod'}).reset_index().drop(columns = ['YEAR', 'Quarter']).set_index('date').apply(percentreverse).round(4)\n",
    "\n",
    "relative_quarterly_md"
   ]
  },
  {
   "cell_type": "markdown",
   "id": "05c46136",
   "metadata": {},
   "source": [
    "## Yearly - Relative\n"
   ]
  },
  {
   "cell_type": "code",
   "execution_count": null,
   "id": "c861b514",
   "metadata": {},
   "outputs": [],
   "source": [
    "# Relative, Yearly indicator changes + russell returns. \n",
    "\n",
    "relative_yearly_md = market_merge_df_compound.reset_index().drop(columns = ['Month','Quarter']).groupby(['YEAR']).agg({'date':'max','Russell 1000 Core': 'prod','Russell 1000 Growth': 'prod','Russell 1000 Value': 'prod','Fed Rate Change (Pct)': 'prod','Unemployment Change (Pct)': 'prod','Inflation Change (Pct)': 'prod'}).reset_index().drop(columns = ['YEAR']).set_index('date').apply(percentreverse).round(6)\n",
    "\n",
    "relative_yearly_md\n"
   ]
  },
  {
   "cell_type": "markdown",
   "id": "5c37fea7",
   "metadata": {},
   "source": [
    "# Initial Stats"
   ]
  },
  {
   "cell_type": "code",
   "execution_count": null,
   "id": "af360493",
   "metadata": {},
   "outputs": [],
   "source": [
    "stats = simple_monthly_md[['Russell 1000 Core','Russell 1000 Value','Russell 1000 Growth']].describe().T.drop(columns = ['25%','50%','75%','count', 'mean','std']).apply(hundred).round(2).reset_index().rename(columns = {'index':'Strategy'}).set_index('Strategy').copy()\n",
    "#stats['mean'] = stats['mean'].apply(percentageconvert).apply(annualfrommonthlyreturns).apply(hundred)\n",
    "#stats['std'] = stats['std'].apply(annualfrommonthlystd)\n",
    "#stats['Sharpe'] = (stats['mean'] - 2) / stats['std']\n",
    "\n",
    "#stats\n"
   ]
  },
  {
   "cell_type": "code",
   "execution_count": null,
   "id": "7f2ca2ed",
   "metadata": {},
   "outputs": [],
   "source": [
    "Initial_Ret = ((relative_quarterly_md[['Russell 1000 Core','Russell 1000 Growth','Russell 1000 Value']].apply(percentagecompound).prod() ** (1/time_period) - 1)*100).reset_index().rename(columns = {'index': 'Strategy',0:'Annualized Return'})\n",
    "Initial_Std = (relative_quarterly_md[['Russell 1000 Core','Russell 1000 Growth','Russell 1000 Value']].std().apply(annualfromquarterlystd)*100).reset_index().rename(columns = {'index': 'Strategy',0:'Annualized Std'})\n",
    "Initial_Stats = pd.merge(Initial_Ret, Initial_Std, on='Strategy', how = 'left')\n",
    "Initial_Stats['Sharpe'] = ((Initial_Stats['Annualized Return'] - 2) / Initial_Stats['Annualized Std']).round(2)\n",
    "#Initial_Stats = Initial_Stats.set_index('Strategy')\n",
    "Initial_Stats = pd.merge(Initial_Stats, stats, on='Strategy', how = 'left').set_index('Strategy')\n",
    "Initial_Stats\n"
   ]
  },
  {
   "cell_type": "code",
   "execution_count": null,
   "id": "1c34ee17",
   "metadata": {},
   "outputs": [],
   "source": [
    "x1 = simple_monthly_md['Russell 1000 Value'].apply(hundred).to_list()\n",
    "x2 = simple_monthly_md['Russell 1000 Growth'].apply(hundred).to_list()\n",
    "x3 = simple_monthly_md['Russell 1000 Core'].apply(hundred).to_list()"
   ]
  },
  {
   "cell_type": "code",
   "execution_count": null,
   "id": "cefb5a14",
   "metadata": {},
   "outputs": [],
   "source": [
    "normal = np.random.randn(1000)\n",
    "norm_data = [normal]\n",
    "norm_label = ['Normal']\n",
    "\n",
    "hist_data = [x1]\n",
    "group_labels = ['Value'] # name of the dataset\n",
    "\n",
    "fig = ff.create_distplot(hist_data, group_labels, bin_size = .5)\n",
    "\n",
    "#fig2 = ff.create_distplot(norm_data, norm_label, bin_size=0.5)\n",
    "#fig2.update_layout(fig.layout)\n",
    "\n",
    "fig.show()"
   ]
  },
  {
   "cell_type": "code",
   "execution_count": null,
   "id": "892fe043",
   "metadata": {},
   "outputs": [],
   "source": [
    "hist_data = [x2]\n",
    "group_labels = ['Growth'] # name of the dataset\n",
    "\n",
    "fig = ff.create_distplot(hist_data, group_labels, bin_size = .5)\n",
    "\n",
    "#fig2 = ff.create_distplot(hist_data, group_labels, histnorm= '', bin_size=0.5, show_hist=False, show_curve=True, show_rug=False )\n",
    "#fig2.update_layout(fig.layout)\n",
    "\n",
    "fig.show()"
   ]
  },
  {
   "cell_type": "code",
   "execution_count": null,
   "id": "e9f05855",
   "metadata": {},
   "outputs": [],
   "source": [
    "hist_data = [x3]\n",
    "group_labels = ['Core'] # name of the dataset\n",
    "\n",
    "fig = ff.create_distplot(hist_data, group_labels, bin_size = .5)\n",
    "\n",
    "#fig2 = ff.create_distplot(hist_data, group_labels, histnorm= '', bin_size=0.5, show_hist=False, show_curve=True, show_rug=False )\n",
    "#fig2.update_layout(fig.layout)\n",
    "\n",
    "fig.show()"
   ]
  },
  {
   "cell_type": "markdown",
   "id": "33dafda3",
   "metadata": {},
   "source": [
    "# Correlation based on Monthly Values (Simple Indicator)"
   ]
  },
  {
   "cell_type": "code",
   "execution_count": null,
   "id": "a0cf3544",
   "metadata": {},
   "outputs": [],
   "source": [
    "# Plots monthly simple correlation as heatmap\n",
    "\n",
    "market_data_corr = simple_monthly_md.reset_index().drop(columns = ['date']).corr()\n",
    "correlation = market_data_corr\n",
    "sn.heatmap(correlation, annot=True).set_title('Correlation based on Monthly Values (Simple Indicator)')\n",
    "\n",
    "plt.show()"
   ]
  },
  {
   "cell_type": "markdown",
   "id": "6b46dca7",
   "metadata": {},
   "source": [
    "## Based on the available monthly data : \n",
    "* Core is highly correlated to both Growth and Value, but Value and Growth appear to be able to provide diversification benefits to each other. \n",
    "* Growth stocks are expected to outperform during times of rising inflation\n",
    "* Value stocks can provide a hedge during times of falling inflation. \n",
    "* Value stocks should outperform during times of falling unemployment\n",
    "* Growth stocks will provide a hedge during times of rising unemployment. \n",
    "* All strategies behave simlarly to changes in Interest Rates - Will ignore. "
   ]
  },
  {
   "cell_type": "markdown",
   "id": "bd1d7a05",
   "metadata": {},
   "source": [
    "# Correlation based on Quarterly Values (Simple Indicator)"
   ]
  },
  {
   "cell_type": "code",
   "execution_count": null,
   "id": "00635af4",
   "metadata": {},
   "outputs": [],
   "source": [
    "# Plots quarterly simple correlation as heatmap\n",
    "\n",
    "market_data_corr = simple_quarterly_md.reset_index().drop(columns = ['date']).corr()\n",
    "correlation = market_data_corr\n",
    "sn.heatmap(correlation, annot=True).set_title('Correlation based on Quarterly Values (Simple Indicator)')\n",
    "\n",
    "plt.show()"
   ]
  },
  {
   "cell_type": "markdown",
   "id": "a32e34ed",
   "metadata": {},
   "source": [
    "## Based on the quarterly monthly data : \n",
    "* Core is highly correlated to both Growth and Value, but Value and Growth appear to be able to provide diversification benefits to each other. \n",
    "* Growth stocks are expected to outperform during times of rising inflation\n",
    "* Value stocks can provide a hedge during times of falling inflation. \n",
    "* Value stocks should outperform during times of falling unemployment\n",
    "* Growth stocks will provide a hedge during times of rising unemployment. \n",
    "* On a quarterly basis Growth appears to be more positively correlate to Fed Rate Changes, might overweight.  "
   ]
  },
  {
   "cell_type": "markdown",
   "id": "6347fe0e",
   "metadata": {},
   "source": [
    "# Correlation based on Yearly Values (Simple Indicator)"
   ]
  },
  {
   "cell_type": "code",
   "execution_count": null,
   "id": "e82b932e",
   "metadata": {
    "scrolled": true
   },
   "outputs": [],
   "source": [
    "# Plots yearly simple correlation as heatmap\n",
    "\n",
    "market_data_corr = simple_yearly_md.reset_index().drop(columns = ['date']).corr()\n",
    "correlation = market_data_corr\n",
    "sn.heatmap(correlation, annot=True).set_title('Correlation based on Yearly Values (Simple Indicator)')\n",
    "plt.show()"
   ]
  },
  {
   "cell_type": "markdown",
   "id": "5c494d0d",
   "metadata": {},
   "source": [
    "## Based on the available yearly data : \n",
    "* Core is highly correlated to both Growth and Value, but Value and Growth appear to be able to provide diversification benefits to each other. \n",
    "* Growth stocks are expected to outperform during times of rising inflation\n",
    "* Value stocks can provide a hedge during times of falling inflation. \n",
    "* Value stocks should outperform during times of falling unemployment\n",
    "* Growth stocks will provide a hedge during times of rising unemployment. \n",
    "* All strategies behave simlarly to changes in Interest Rates - slight edge to value / core. "
   ]
  },
  {
   "cell_type": "markdown",
   "id": "141cc61e",
   "metadata": {},
   "source": [
    "# Correlation based on Monthly Values (Relative Indicators)"
   ]
  },
  {
   "cell_type": "code",
   "execution_count": null,
   "id": "993b500d",
   "metadata": {},
   "outputs": [],
   "source": [
    "# Plots monthly relative correlation as heatmap\n",
    "\n",
    "market_data_corr = relative_monthly_md.reset_index().drop(columns = ['date']).corr()\n",
    "correlation = market_data_corr\n",
    "sn.heatmap(correlation, annot=True)\n",
    "\n",
    "plt.show()"
   ]
  },
  {
   "cell_type": "markdown",
   "id": "8d6728dd",
   "metadata": {},
   "source": [
    "# Correlation based on Quarterly Values (Relative Indicators)"
   ]
  },
  {
   "cell_type": "code",
   "execution_count": null,
   "id": "30568d92",
   "metadata": {},
   "outputs": [],
   "source": [
    "# Plots quarterly relative correlation as heatmap\n",
    "\n",
    "market_data_corr = relative_quarterly_md.reset_index().drop(columns = ['date']).corr()\n",
    "correlation = market_data_corr\n",
    "sn.heatmap(correlation, annot=True)\n",
    "\n",
    "plt.show()"
   ]
  },
  {
   "cell_type": "markdown",
   "id": "c97462b3",
   "metadata": {},
   "source": [
    "# Correlation based on Yearly Values (Relative Indicators)"
   ]
  },
  {
   "cell_type": "code",
   "execution_count": null,
   "id": "4a7f13d7",
   "metadata": {},
   "outputs": [],
   "source": [
    "# Plots monthly relative correlation as heatmap\n",
    "\n",
    "market_data_corr = relative_yearly_md.reset_index().drop(columns = ['date']).corr()\n",
    "correlation = market_data_corr\n",
    "sn.heatmap(correlation, annot=True)\n",
    "\n",
    "plt.show()\n"
   ]
  },
  {
   "cell_type": "markdown",
   "id": "f22af7ef",
   "metadata": {},
   "source": [
    "# Momentum Pick #1 (Pure Index)"
   ]
  },
  {
   "cell_type": "code",
   "execution_count": null,
   "id": "0d693f7e",
   "metadata": {},
   "outputs": [],
   "source": [
    "# Picks which index to buy based on last months max return, then replaces first value with Russell 1000 Value as no prior month return was available.\n",
    "\n",
    "momentum = simple_quarterly_md[['Russell 1000 Core','Russell 1000 Value','Russell 1000 Growth']].copy()\n",
    "momentum['Pick'] = momentum[['Russell 1000 Core','Russell 1000 Value','Russell 1000 Growth']].shift().idxmax(axis=1)\n",
    "momentum['Pick'] = momentum['Pick'].replace(np.nan, 'Russell 1000 Value')\n",
    "#pd.set_option(\"display.max_rows\", None, \"display.max_columns\", None)\n",
    "\n",
    "momentum"
   ]
  },
  {
   "cell_type": "code",
   "execution_count": null,
   "id": "30667ae8",
   "metadata": {},
   "outputs": [],
   "source": [
    "# Creates trade flag based on if last month's pick = this month's pick. If not Trade flag is created. If so, Hold.\n",
    "\n",
    "momentum.loc[momentum['Pick'] != momentum['Pick'].shift(), \"Trade/Hold\"] = \"Trade\"\n",
    "momentum = momentum.replace(np.nan, 'X')\n",
    "\n",
    "momentum"
   ]
  },
  {
   "cell_type": "code",
   "execution_count": null,
   "id": "efcdefd8",
   "metadata": {},
   "outputs": [],
   "source": [
    "# Creates row showing the return of the selected strategy based on the pick column. \n",
    "\n",
    "idx, col = pd.factorize(momentum['Pick'])\n",
    "momentum['Selection Return'] = momentum.reindex(columns=col).to_numpy()[np.arange(len(momentum)), idx]\n",
    "\n",
    "momentum"
   ]
  },
  {
   "cell_type": "code",
   "execution_count": null,
   "id": "83f97f05",
   "metadata": {},
   "outputs": [],
   "source": [
    "momentum_results = momentum[['Russell 1000 Core','Selection Return']].copy()\n",
    "momentum_results.loc[momentum_results.index[0], 'Core Portfolio Value'] = 100\n",
    "momentum_results.loc[momentum_results.index[0], 'Selection Portfolio Value'] = 100\n",
    "momentum_results = momentum_results.copy()\n",
    "momentum_results.loc[datetime.datetime.strptime('1978-12-31', '%Y-%m-%d').date()] = [0,0, 100,100]  # adding a row\n",
    "momentum_results = momentum_results.sort_index()\n",
    "for i in range(momentum_results.index.size - 1):\n",
    "    momentum_results['Core Portfolio Value'].iloc[i+1] = (momentum_results['Russell 1000 Core'].apply(percentagecompound).iloc[i+1] * momentum_results['Core Portfolio Value'].iloc[i])\n",
    "    momentum_results['Selection Portfolio Value'].iloc[i+1] = (momentum_results['Selection Return'].apply(percentagecompound).iloc[i+1] * momentum_results['Selection Portfolio Value'].iloc[i])\n",
    "\n",
    "momentum_results    \n"
   ]
  },
  {
   "cell_type": "code",
   "execution_count": null,
   "id": "b8092e8f",
   "metadata": {},
   "outputs": [],
   "source": [
    "# Plots all 3 portfolio returns\n",
    "\n",
    "#subfig = make_subplots(specs=[[{\"secondary_y\": True}]])\n",
    "\n",
    "fig = px.bar(momentum.apply(hundred).reset_index(), x=\"date\", y=[\"Russell 1000 Core\",'Russell 1000 Value','Russell 1000 Growth'],\n",
    "            barmode='group',\n",
    "             height=400, \n",
    "            ) \n",
    "#subfig.update_layout(title= 'Yearly Returns (Pct)')\n",
    "#fig.update_traces(line_color='#0000ff', line_width=5)\n",
    "#fig2.update_traces(yaxis=\"y2\",line_color='#0F0A09')\n",
    "#subfig.add_traces(fig.data)\n",
    "#subfig.update_xaxes(nticks=37)\n",
    "#subfig.update_xaxes(tickangle=90)\n",
    "#subfig.show()\n",
    "fig.show()"
   ]
  },
  {
   "cell_type": "code",
   "execution_count": null,
   "id": "a24e22ee",
   "metadata": {},
   "outputs": [],
   "source": [
    "#Plots selected portfolio vs Russell 1000 Core over period. \n",
    "\n",
    "fig = px.line(momentum_results.reset_index(), x = 'date', y=['Core Portfolio Value','Selection Portfolio Value'], title='Core vs Momentum v1')\n",
    "fig.show()"
   ]
  },
  {
   "cell_type": "code",
   "execution_count": null,
   "id": "0071d8de",
   "metadata": {},
   "outputs": [],
   "source": [
    "#Shows ending value of $100\n",
    "\n",
    "momentum_results[['Core Portfolio Value','Selection Portfolio Value']].iloc[-1].round(2).reset_index().rename(columns = {'index':'Portfolio', 0:'Ending Port Val'}).set_index('Portfolio').style.set_caption('Value of $100')"
   ]
  },
  {
   "cell_type": "code",
   "execution_count": null,
   "id": "1378772b",
   "metadata": {},
   "outputs": [],
   "source": [
    "#Shows Stats of Momentum strategy\n",
    "\n",
    "momentum_Ret = ((momentum[['Russell 1000 Core','Russell 1000 Growth','Russell 1000 Value','Selection Return']].apply(percentagecompound).prod() ** (1/time_period) - 1)*100).reset_index().rename(columns = {'index': 'Strategy',0:'Annualized Return'})\n",
    "momentum_Std = (momentum[['Russell 1000 Core','Russell 1000 Growth','Russell 1000 Value','Selection Return']].std().apply(annualfromquarterlystd)*100).reset_index().rename(columns = {'index': 'Strategy',0:'Annualized Std'})\n",
    "momentum_Stats = pd.merge(momentum_Ret, momentum_Std, on='Strategy', how = 'left')\n",
    "momentum_Stats['Sharpe'] = ((momentum_Stats['Annualized Return'] - 2) / momentum_Stats['Annualized Std']).round(2)\n",
    "momentum_Stats = momentum_Stats.set_index('Strategy')\n",
    "momentum_Stats\n"
   ]
  },
  {
   "cell_type": "code",
   "execution_count": null,
   "id": "ac9210f0",
   "metadata": {},
   "outputs": [],
   "source": [
    "#Shows momentum trade data\n",
    "\n",
    "momentum_trades = momentum[['Russell 1000 Core','Trade/Hold']].groupby('Trade/Hold').count().rename(columns = {'Russell 1000 Core':'Total'})\n",
    "momentum_trades['Average Yearly Trades'] = momentum_trades['Total'] / time_period\n",
    "momentum_trades['Average Yearly Trades'] = momentum_trades['Average Yearly Trades'].round(1)\n",
    "momentum_trades = momentum_trades.drop('X')\n",
    "momentum_trades\n"
   ]
  },
  {
   "cell_type": "code",
   "execution_count": null,
   "id": "eb546a43",
   "metadata": {},
   "outputs": [],
   "source": [
    "#Trade schedule\n",
    "\n",
    "momentum_trade_pivot = momentum[['Trade/Hold','Pick']].reset_index()\n",
    "momentum_trade_pivot.loc[momentum_trade_pivot['Trade/Hold'] == 'Trade', 'Trade/Hold' ] = momentum_trade_pivot['Trade/Hold'] + \" - \" + momentum_trade_pivot['Pick']#momentum_2_trade_pivot = momentum_2_trade_pivot.drop(columns = 'Pick')\n",
    "momentum_trade_pivot = momentum_trade_pivot.drop(columns = 'Pick')\n",
    "momentum_trade_pivot['Month'] = momentum_trade_pivot['date'].astype(str).str.split('-').str[1]\n",
    "momentum_trade_pivot['Year'] = momentum_trade_pivot['date'].astype(str).str.split('-').str[0]\n",
    "momentum_trade_pivot = momentum_trade_pivot.drop(columns = 'date').pivot(index = 'Year', columns = 'Month').rename(columns = {'03': 'Qtr 1','06': 'Qtr 2','09': 'Qtr 3','12': 'Qtr 4'}).style.apply(lambda x: [\"background: green\" if 'Trade' in value else \"\" for value in x], axis = 1)\n",
    "momentum_trade_pivot\n"
   ]
  },
  {
   "cell_type": "markdown",
   "id": "134f6a36",
   "metadata": {},
   "source": [
    "## Notes\n",
    "Picking solely based on last quarter's winner does not appear to be a winning strategy over the time period. "
   ]
  },
  {
   "cell_type": "markdown",
   "id": "d1fff698",
   "metadata": {},
   "source": [
    "# Momentum Pick #2 (Weighted Index)\n",
    "\n",
    "I will now create weighted portfolios to allow for diversification, and test if it is possible to beat the Russell 1000 Core. "
   ]
  },
  {
   "cell_type": "code",
   "execution_count": null,
   "id": "b6e3d3fd",
   "metadata": {},
   "outputs": [],
   "source": [
    "#Create returns data based on chosen portfolio weights. \n",
    "\n",
    "momentum_weighted = momentum.drop(columns = 'Selection Return').copy()\n",
    "momentum_weighted['Value Weighted Return'] = momentum_weighted['Russell 1000 Core'] * .02 + momentum_weighted['Russell 1000 Value'] * .97 + momentum_weighted['Russell 1000 Growth'] * .01\n",
    "momentum_weighted['Growth Weighted Return'] = momentum_weighted['Russell 1000 Core'] * .1 + momentum_weighted['Russell 1000 Growth'] * .2 + momentum_weighted['Russell 1000 Value'] * .7 \n",
    "momentum_weighted['Core Weighted Return'] = momentum_weighted['Russell 1000 Core'] * .2 + momentum_weighted['Russell 1000 Value'] * .8 + momentum_weighted['Russell 1000 Growth'] * .0\n",
    "\n",
    "momentum_weighted\n"
   ]
  },
  {
   "cell_type": "code",
   "execution_count": null,
   "id": "34ac8755",
   "metadata": {},
   "outputs": [],
   "source": [
    "#Find return for selected portfolio\n",
    "\n",
    "momentum_weighted.loc[momentum_weighted['Pick'] == 'Russell 1000 Core', \"Selection Return\"] =  momentum_weighted['Russell 1000 Core']\n",
    "momentum_weighted.loc[momentum_weighted['Pick'] == 'Russell 1000 Growth', \"Selection Return\"] =  momentum_weighted['Growth Weighted Return']\n",
    "momentum_weighted.loc[momentum_weighted['Pick'] == 'Russell 1000 Value', \"Selection Return\"] =  momentum_weighted['Value Weighted Return']\n",
    "momentum_weighted['Pick'] = momentum_weighted['Pick'].apply(portswitch)\n",
    "momentum_weighted\n"
   ]
  },
  {
   "cell_type": "code",
   "execution_count": null,
   "id": "fea19bdf",
   "metadata": {},
   "outputs": [],
   "source": [
    "#Creates result table, finding value of $100\n",
    "\n",
    "momentum_weighted_results = momentum_weighted[['Russell 1000 Core','Selection Return']].copy()\n",
    "momentum_weighted_results.loc[momentum_weighted_results.index[0], 'Core Portfolio Value'] = 100\n",
    "momentum_weighted_results.loc[momentum_weighted_results.index[0], 'Selection Portfolio Value'] = 100\n",
    "momentum_weighted_results2 = momentum_weighted_results.copy()\n",
    "momentum_weighted_results2.loc[datetime.datetime.strptime('1978-12-31', '%Y-%m-%d').date()] = [0,0, 100,100]  # adding a row\n",
    "momentum_weighted_results2 = momentum_weighted_results2.sort_index()\n",
    "for i in range(momentum_weighted_results2.index.size - 1):\n",
    "    momentum_weighted_results2['Core Portfolio Value'].iloc[i+1] = (momentum_weighted_results2['Russell 1000 Core'].apply(percentagecompound).iloc[i+1] * momentum_weighted_results2['Core Portfolio Value'].iloc[i])\n",
    "    momentum_weighted_results2['Selection Portfolio Value'].iloc[i+1] = (momentum_weighted_results2['Selection Return'].apply(percentagecompound).iloc[i+1] * momentum_weighted_results2['Selection Portfolio Value'].iloc[i])\n",
    "\n",
    "momentum_weighted_results2    \n"
   ]
  },
  {
   "cell_type": "code",
   "execution_count": null,
   "id": "2cc5a636",
   "metadata": {},
   "outputs": [],
   "source": [
    "#creates list used to plot trade lines. \n",
    "\n",
    "lines_test = momentum_weighted.reset_index()[['date','Trade/Hold']].set_index('date').loc[momentum_weighted['Trade/Hold'] == 'Trade'].drop(columns = 'Trade/Hold').reset_index()\n",
    "lines_test['date'] = lines_test['date'].astype(str)\n",
    "lines = lines_test['date'].values\n"
   ]
  },
  {
   "cell_type": "code",
   "execution_count": null,
   "id": "a178128f",
   "metadata": {},
   "outputs": [],
   "source": [
    "#plots value of $100 with trade lines. \n",
    "\n",
    "fig = px.line(momentum_weighted_results2.reset_index(), x = 'date', y=['Core Portfolio Value','Selection Portfolio Value'], title='Core vs Momentum v2')\n",
    "\n",
    "for i in range(len(lines)):\n",
    "    fig.add_vline(x=lines[i], line_width=1, line_dash=\"solid\", line_color=\"black\")\n",
    "\n",
    "fig.update_xaxes(nticks=30)\n",
    "fig.update_xaxes(tickangle=45)\n",
    "\n",
    "fig.show()\n"
   ]
  },
  {
   "cell_type": "code",
   "execution_count": null,
   "id": "32789a12",
   "metadata": {},
   "outputs": [],
   "source": [
    "#Plots selected portfolio vs Russell 1000 Core over period. \n",
    "\n",
    "fig = px.line(momentum_weighted_results2.reset_index(), x = 'date', y=['Core Portfolio Value','Selection Portfolio Value'], title='Core vs Momentum v2')\n",
    "fig.show()"
   ]
  },
  {
   "cell_type": "code",
   "execution_count": null,
   "id": "b0b00464",
   "metadata": {},
   "outputs": [],
   "source": [
    "#Value of $100\n",
    "\n",
    "momentum_weighted_results2[['Core Portfolio Value','Selection Portfolio Value']].iloc[-1].round(2).reset_index().rename(columns = {'index':'Portfolio', 0:'Ending Port Val'}).set_index('Portfolio').style.set_caption('Value of $100')"
   ]
  },
  {
   "cell_type": "code",
   "execution_count": null,
   "id": "b22bfcbd",
   "metadata": {},
   "outputs": [],
   "source": [
    "#momentum_weighted_trade data \n",
    "\n",
    "momentum_weighted_trades = momentum_weighted[['Russell 1000 Core','Trade/Hold']].groupby('Trade/Hold').count().rename(columns = {'Russell 1000 Core':'Total'})\n",
    "momentum_weighted_trades['Average Yearly Trades'] = momentum_weighted_trades['Total'] / time_period\n",
    "momentum_weighted_trades['Average Yearly Trades'] = momentum_weighted_trades['Average Yearly Trades'].round(1)\n",
    "momentum_weighted_trades = momentum_weighted_trades.drop('X')\n",
    "momentum_weighted_trades\n"
   ]
  },
  {
   "cell_type": "code",
   "execution_count": null,
   "id": "f0ec5a94",
   "metadata": {},
   "outputs": [],
   "source": [
    "#Generates stats for momentum weighted strat\n",
    "\n",
    "momentum_weighted_Ret = ((momentum_weighted[['Russell 1000 Core','Russell 1000 Growth','Russell 1000 Value','Selection Return']].apply(percentagecompound).prod() ** (1/time_period) - 1)*100).reset_index().rename(columns = {'index': 'Strategy',0:'Annualized Return'})\n",
    "momentum_weighted_Std = (momentum_weighted[['Russell 1000 Core','Russell 1000 Growth','Russell 1000 Value','Selection Return']].std().apply(annualfromquarterlystd)*100).reset_index().rename(columns = {'index': 'Strategy',0:'Annualized Std'})\n",
    "momentum_weighted_Stats = pd.merge(momentum_weighted_Ret, momentum_weighted_Std, on='Strategy', how = 'left')\n",
    "momentum_weighted_Stats['Sharpe'] = ((momentum_weighted_Stats['Annualized Return'] - 2) / momentum_weighted_Stats['Annualized Std']).round(2)\n",
    "momentum_weighted_Stats = momentum_weighted_Stats.set_index('Strategy')\n",
    "momentum_weighted_Stats"
   ]
  },
  {
   "cell_type": "code",
   "execution_count": null,
   "id": "d731a20a",
   "metadata": {},
   "outputs": [],
   "source": [
    "#Creates trade schedule \n",
    "\n",
    "momentum_2_trade_pivot = momentum_weighted[['Trade/Hold','Pick']].reset_index()\n",
    "momentum_2_trade_pivot.loc[momentum_2_trade_pivot['Trade/Hold'] == 'Trade', 'Trade/Hold' ] = momentum_2_trade_pivot['Trade/Hold'] + \" - \" + momentum_2_trade_pivot['Pick']#momentum_2_trade_pivot = momentum_2_trade_pivot.drop(columns = 'Pick')\n",
    "momentum_2_trade_pivot = momentum_2_trade_pivot.drop(columns = 'Pick')\n",
    "momentum_2_trade_pivot['Month'] = momentum_2_trade_pivot['date'].astype(str).str.split('-').str[1]\n",
    "momentum_2_trade_pivot['Year'] = momentum_2_trade_pivot['date'].astype(str).str.split('-').str[0]\n",
    "momentum_2_trade_pivot = momentum_2_trade_pivot.drop(columns = 'date').pivot(index = 'Year', columns = 'Month').rename(columns = {'03': 'Qtr 1','06': 'Qtr 2','09': 'Qtr 3','12': 'Qtr 4'}).style.apply(lambda x: [\"background: green\" if 'Trade' in value else \"\" for value in x], axis = 1)\n",
    "momentum_2_trade_pivot"
   ]
  },
  {
   "cell_type": "markdown",
   "id": "1ae26840",
   "metadata": {},
   "source": [
    "# Efficient Frontier"
   ]
  },
  {
   "cell_type": "code",
   "execution_count": null,
   "id": "db798e96",
   "metadata": {},
   "outputs": [],
   "source": [
    "# Determines annualized portfolio performance based on monthly returns. \n",
    "\n",
    "def portfolio_annualized_performance(weights, mean_returns, cov_matrix):\n",
    "    returns = np.sum(mean_returns*weights ) *12\n",
    "    std = np.sqrt(np.dot(weights.T, np.dot(cov_matrix, weights))) * np.sqrt(12)\n",
    "    return std, returns\n",
    "\n",
    "#Loops through creating randomly weighted portfolios\n",
    "\n",
    "def random_portfolios(num_portfolios, mean_returns, cov_matrix, risk_free_rate):\n",
    "    results = np.zeros((3,num_portfolios))\n",
    "    weights_record = []\n",
    "    for i in range(num_portfolios):\n",
    "        weights = np.random.random(3)\n",
    "        weights /= np.sum(weights)\n",
    "        weights_record.append(weights)\n",
    "        portfolio_std_dev, portfolio_return = portfolio_annualized_performance(weights, mean_returns, cov_matrix)\n",
    "        results[0,i] = portfolio_std_dev\n",
    "        results[1,i] = portfolio_return\n",
    "        results[2,i] = (portfolio_return - risk_free_rate) / portfolio_std_dev\n",
    "    return results, weights_record"
   ]
  },
  {
   "cell_type": "code",
   "execution_count": null,
   "id": "c245e73f",
   "metadata": {},
   "outputs": [],
   "source": [
    "# assigns values for simulated EF \n",
    "\n",
    "table = simple_monthly_md[['Russell 1000 Core','Russell 1000 Growth','Russell 1000 Value']].apply(hundred)\n",
    "returns = simple_monthly_md[['Russell 1000 Core','Russell 1000 Growth','Russell 1000 Value']].apply(hundred)\n",
    "mean_returns = returns.mean()\n",
    "cov_matrix = returns.cov()\n",
    "num_portfolios = 25000\n",
    "risk_free_rate = 0"
   ]
  },
  {
   "cell_type": "code",
   "execution_count": null,
   "id": "473fc5a2",
   "metadata": {},
   "outputs": [],
   "source": [
    "# Prints result and plot Efficient Frontier. \n",
    "\n",
    "def display_simulated_ef_with_random(mean_returns, cov_matrix, num_portfolios, risk_free_rate):\n",
    "    results, weights = random_portfolios(num_portfolios,mean_returns, cov_matrix, risk_free_rate)\n",
    "    \n",
    "    max_sharpe_idx = np.argmax(results[2])\n",
    "    sdp, rp = results[0,max_sharpe_idx], results[1,max_sharpe_idx]\n",
    "    max_sharpe_allocation = pd.DataFrame(weights[max_sharpe_idx],index=table.columns,columns=['allocation'])\n",
    "    max_sharpe_allocation.allocation = [round(i*100,2)for i in max_sharpe_allocation.allocation]\n",
    "    max_sharpe_allocation = max_sharpe_allocation.T\n",
    "    \n",
    "    min_vol_idx = np.argmin(results[0])\n",
    "    sdp_min, rp_min = results[0,min_vol_idx], results[1,min_vol_idx]\n",
    "    min_vol_allocation = pd.DataFrame(weights[min_vol_idx],index=table.columns,columns=['allocation'])\n",
    "    min_vol_allocation.allocation = [round(i*100,2)for i in min_vol_allocation.allocation]\n",
    "    min_vol_allocation = min_vol_allocation.T\n",
    "    \n",
    "    print (\"-\"*80)\n",
    "    print (\"Maximum Sharpe Ratio Portfolio Allocation\\n\")\n",
    "    print (\"Annualized Return:\", round(rp,2))\n",
    "    print (\"Annualized Volatility:\", round(sdp,2))\n",
    "    print (\"\\n\")\n",
    "    print (max_sharpe_allocation)\n",
    "    print (\"-\"*80)\n",
    "    print (\"Minimum Volatility Portfolio Allocation\\n\")\n",
    "    print (\"Annualized Return:\", round(rp_min,2))\n",
    "    print (\"Annualized Volatility:\", round(sdp_min,2))\n",
    "    print (\"\\n\")\n",
    "    print (min_vol_allocation)\n",
    "    \n",
    "    plt.figure(figsize=(10, 7))\n",
    "    plt.scatter(results[0,:],results[1,:],c=results[2,:],cmap='YlGnBu', marker='o', s=10, alpha=0.3)\n",
    "    plt.colorbar()\n",
    "    plt.scatter(sdp,rp,marker='*',color='r',s=500, label='Maximum Sharpe ratio')\n",
    "    plt.scatter(sdp_min,rp_min,marker='*',color='g',s=500, label='Minimum volatility')\n",
    "    plt.title('Simulated Portfolio Optimization based on Efficient Frontier')\n",
    "    plt.xlabel('annualized volatility')\n",
    "    plt.ylabel('annualized returns')\n",
    "    plt.legend(labelspacing=0.8)"
   ]
  },
  {
   "cell_type": "code",
   "execution_count": null,
   "id": "d648bc8f",
   "metadata": {},
   "outputs": [],
   "source": [
    "display_simulated_ef_with_random(mean_returns, cov_matrix, num_portfolios, risk_free_rate)\n"
   ]
  },
  {
   "cell_type": "markdown",
   "id": "e433101b",
   "metadata": {},
   "source": [
    "# Indicator Pick #1\n"
   ]
  },
  {
   "cell_type": "code",
   "execution_count": null,
   "id": "9c9fa516",
   "metadata": {},
   "outputs": [],
   "source": [
    "# Copies quarterly market data in factor pick dataframe. \n",
    "indicator_pick = simple_quarterly_md.copy()"
   ]
  },
  {
   "cell_type": "code",
   "execution_count": null,
   "id": "a62b8cd9",
   "metadata": {},
   "outputs": [],
   "source": [
    "# Assigns values to \"Flags\" used to determine which portfolio to use. \n",
    "# 1 = Value Weighted\n",
    "# - 1 = Growth Weighted\n",
    "# 0 = uncertain\n",
    "\n",
    "indicator_pick.loc[(indicator_pick['Fed Rate Change']<0),'Fed Flag'] = 1\n",
    "indicator_pick.loc[(indicator_pick['Fed Rate Change']>0),'Fed Flag'] = -1\n",
    "indicator_pick.loc[(indicator_pick['Fed Rate Change']==0),'Fed Flag'] = 0\n",
    "indicator_pick.loc[(indicator_pick['Unemployment Change']<0),'Unemployment Flag'] = 1\n",
    "indicator_pick.loc[(indicator_pick['Unemployment Change']>0),'Unemployment Flag'] = -1\n",
    "indicator_pick.loc[(indicator_pick['Unemployment Change']==0),'Unemployment Flag'] = 0\n",
    "indicator_pick.loc[(indicator_pick['Inflation Change']<0),'Inflation Flag'] = 1\n",
    "indicator_pick.loc[(indicator_pick['Inflation Change']>0),'Inflation Flag'] = -1\n",
    "indicator_pick.loc[(indicator_pick['Inflation Change']==0),'Inflation Flag'] = 0"
   ]
  },
  {
   "cell_type": "code",
   "execution_count": null,
   "id": "65b9d018",
   "metadata": {},
   "outputs": [],
   "source": [
    "#Sums Flags to create a prediction\n",
    "#Positive numbers and 0s will use the Value weighted portfolio.\n",
    "#Negative numbers will use growth weighted. \n",
    "\n",
    "indicator_pick['Flag_Sum'] = indicator_pick['Fed Flag'] + indicator_pick['Unemployment Flag'] + indicator_pick['Inflation Flag']\n",
    "indicator_pick\n"
   ]
  },
  {
   "cell_type": "code",
   "execution_count": null,
   "id": "091ea9ea",
   "metadata": {},
   "outputs": [],
   "source": [
    "# Assigns favored portfolios based on Flag_Sum column of previous month. \n",
    "\n",
    "indicator_pick.loc[(indicator_pick['Flag_Sum'].shift() >0),'Favored'] = 'Russell 1000 Value'\n",
    "indicator_pick.loc[(indicator_pick['Flag_Sum'].shift() ==0),'Favored'] = 'Russell 1000 Value'\n",
    "indicator_pick.loc[(indicator_pick['Flag_Sum'].shift() <0),'Favored'] = 'Russell 1000 Growth'\n",
    "indicator_pick = indicator_pick.replace(np.nan, 'Russell 1000 Value')\n",
    "indicator_pick"
   ]
  },
  {
   "cell_type": "code",
   "execution_count": null,
   "id": "5c03205b",
   "metadata": {},
   "outputs": [],
   "source": [
    "# Checks to see which portfolio was held last quarter and determines if a Trade is necessary. \n",
    "\n",
    "indicator_pick.loc[indicator_pick['Favored'] != indicator_pick['Favored'].shift(), \"Trade/Hold\"] = \"Trade\"\n",
    "indicator_pick = indicator_pick.replace(np.nan, 'X')\n",
    "\n",
    "indicator_pick"
   ]
  },
  {
   "cell_type": "code",
   "execution_count": null,
   "id": "47a365cf",
   "metadata": {},
   "outputs": [],
   "source": [
    "# assigns portfolio weights \n",
    "\n",
    "indicator_pick['Value Weighted Return'] = indicator_pick['Russell 1000 Core'] * .02 + indicator_pick['Russell 1000 Value'] * .97 + indicator_pick['Russell 1000 Growth'] * .01\n",
    "indicator_pick['Growth Weighted Return'] = indicator_pick['Russell 1000 Core'] * .1 + indicator_pick['Russell 1000 Growth'] * .2 + indicator_pick['Russell 1000 Value'] * .7 \n",
    "indicator_pick['Core Weighted Return'] = indicator_pick['Russell 1000 Core'] * .2 + indicator_pick['Russell 1000 Value'] * .8 + indicator_pick['Russell 1000 Growth'] * .0\n",
    "\n",
    "# Creates columns with performance of all 3 strategies\n",
    "\n",
    "indicator_pick.loc[indicator_pick['Favored'] == 'Russell 1000 Core', \"Selection Return\"] =  indicator_pick['Value Weighted Return']\n",
    "indicator_pick.loc[indicator_pick['Favored'] == 'Russell 1000 Growth', \"Selection Return\"] =  indicator_pick['Growth Weighted Return']\n",
    "indicator_pick.loc[indicator_pick['Favored'] == 'Russell 1000 Value', \"Selection Return\"] =  indicator_pick['Value Weighted Return']\n",
    "\n",
    "indicator_pick['Favored'] = indicator_pick['Favored'].apply(portswitch)\n",
    "\n",
    "indicator_pick\n"
   ]
  },
  {
   "cell_type": "code",
   "execution_count": null,
   "id": "3449e163",
   "metadata": {},
   "outputs": [],
   "source": [
    "# Creates Result dataframe and calculates value of $100\n",
    "\n",
    "indicator1_results = indicator_pick[['Russell 1000 Core','Selection Return']].copy()\n",
    "indicator1_results.loc[indicator1_results.index[0], 'Core Portfolio Value'] = 100\n",
    "indicator1_results.loc[indicator1_results.index[0], 'Selection Portfolio Value'] = 100\n",
    "indicator1_results.loc[datetime.datetime.strptime('1978-12-31', '%Y-%m-%d').date()] = [0,0, 100,100]  # adding a row\n",
    "indicator1_results = indicator1_results.sort_index()\n",
    "for i in range(indicator1_results.index.size - 1):\n",
    "    indicator1_results['Core Portfolio Value'].iloc[i+1] = (indicator1_results['Russell 1000 Core'].apply(percentagecompound).iloc[i+1] * indicator1_results['Core Portfolio Value'].iloc[i])\n",
    "    indicator1_results['Selection Portfolio Value'].iloc[i+1] = (indicator1_results['Selection Return'].apply(percentagecompound).iloc[i+1] * indicator1_results['Selection Portfolio Value'].iloc[i])\n",
    "\n",
    "indicator1_results\n",
    "    "
   ]
  },
  {
   "cell_type": "code",
   "execution_count": null,
   "id": "c04990ca",
   "metadata": {},
   "outputs": [],
   "source": [
    "#Creates Stats DF\n",
    "\n",
    "indicator_Ret = ((indicator_pick[['Russell 1000 Core','Russell 1000 Growth','Russell 1000 Value','Selection Return']].apply(percentagecompound).prod() ** (1/time_period) - 1)*100).reset_index().rename(columns = {'index': 'Strategy',0:'Annualized Return'})\n",
    "indicator_Std = (indicator_pick[['Russell 1000 Core','Russell 1000 Growth','Russell 1000 Value','Selection Return']].std().apply(annualfromquarterlystd)*100).reset_index().rename(columns = {'index': 'Strategy',0:'Annualized Std'})\n",
    "indicator_Stats = pd.merge(indicator_Ret, indicator_Std, on='Strategy', how = 'left')\n",
    "indicator_Stats['Sharpe'] = ((indicator_Stats['Annualized Return'] - 2) / indicator_Stats['Annualized Std']).round(2)\n",
    "indicator_Stats = indicator_Stats.set_index('Strategy')\n",
    "indicator_Stats\n"
   ]
  },
  {
   "cell_type": "code",
   "execution_count": null,
   "id": "393c520d",
   "metadata": {},
   "outputs": [],
   "source": [
    "#Plots selected portfolio vs Russell 1000 Core over period. \n",
    "\n",
    "fig = px.line(indicator1_results.reset_index(), x = 'date', y=['Core Portfolio Value','Selection Portfolio Value'], title='Core vs Indicator Selection v1')\n",
    "fig.show()"
   ]
  },
  {
   "cell_type": "code",
   "execution_count": null,
   "id": "96262336",
   "metadata": {},
   "outputs": [],
   "source": [
    "#Value of $100 DF\n",
    "\n",
    "indicator1_results[['Core Portfolio Value','Selection Portfolio Value']].iloc[-1].round(2).reset_index().rename(columns = {'index':'Portfolio', 0:'Ending Port Val'}).set_index('Portfolio').style.set_caption('Value of $100')\n"
   ]
  },
  {
   "cell_type": "code",
   "execution_count": null,
   "id": "a0d50cc3",
   "metadata": {},
   "outputs": [],
   "source": [
    "# creates trade schedule\n",
    "\n",
    "indicator_trade_pivot = indicator_pick[['Trade/Hold','Favored']].reset_index()\n",
    "indicator_trade_pivot.loc[indicator_trade_pivot['Trade/Hold'] == 'Trade', 'Trade/Hold' ] = indicator_trade_pivot['Trade/Hold'] + \" - \" + indicator_trade_pivot['Favored']#momentum_2_trade_pivot = momentum_2_trade_pivot.drop(columns = 'Pick')\n",
    "indicator_trade_pivot = indicator_trade_pivot.drop(columns = 'Favored')\n",
    "indicator_trade_pivot['Month'] = indicator_trade_pivot['date'].astype(str).str.split('-').str[1]\n",
    "indicator_trade_pivot['Year'] = indicator_trade_pivot['date'].astype(str).str.split('-').str[0]\n",
    "indicator_trade_pivot = indicator_trade_pivot.drop(columns = 'date').pivot(index = 'Year', columns = 'Month').rename(columns = {'03': 'Qtr 1','06': 'Qtr 2','09': 'Qtr 3','12': 'Qtr 4'}).style.apply(lambda x: [\"background: green\" if 'Trade' in value else \"\" for value in x], axis = 1)\n",
    "indicator_trade_pivot\n"
   ]
  },
  {
   "cell_type": "code",
   "execution_count": null,
   "id": "c406330c",
   "metadata": {
    "scrolled": true
   },
   "outputs": [],
   "source": [
    "#Creates Trade data frame\n",
    "\n",
    "indicator_trades = indicator_pick[['Russell 1000 Core','Trade/Hold']].groupby('Trade/Hold').count().rename(columns = {'Russell 1000 Core':'Total'})\n",
    "indicator_trades['Average Yearly Trades'] = indicator_trades['Total'] / time_period\n",
    "indicator_trades['Average Yearly Trades'] = indicator_trades['Average Yearly Trades'].round(1)\n",
    "indicator_trades = indicator_trades.drop('X')\n",
    "indicator_trades\n"
   ]
  },
  {
   "cell_type": "markdown",
   "id": "c549b5c4",
   "metadata": {},
   "source": [
    "# Plots"
   ]
  },
  {
   "cell_type": "code",
   "execution_count": null,
   "id": "8d368734",
   "metadata": {},
   "outputs": [],
   "source": [
    "# Plots all 3 portfolio returns\n",
    "\n",
    "subfig = make_subplots(specs=[[{\"secondary_y\": True}]])\n",
    "\n",
    "fig = px.bar(simple_yearly_md.apply(hundred).reset_index(), x=\"date\", y=[\"Russell 1000 Core\",'Russell 1000 Growth','Russell 1000 Value'],\n",
    "            barmode='group',\n",
    "             height=400, \n",
    "            ) \n",
    "subfig.update_layout(title= 'Yearly Returns (Pct)')\n",
    "#fig.update_traces(line_color='#0000ff', line_width=5)\n",
    "#fig2.update_traces(yaxis=\"y2\",line_color='#0F0A09')\n",
    "subfig.add_traces(fig.data)\n",
    "subfig.update_xaxes(nticks=37)\n",
    "subfig.update_xaxes(tickangle=90)\n",
    "subfig.show()"
   ]
  },
  {
   "cell_type": "code",
   "execution_count": null,
   "id": "e4929961",
   "metadata": {},
   "outputs": [],
   "source": [
    "# Plots all 3 portfolio returns vs Inflation\n",
    "\n",
    "subfig = make_subplots(specs=[[{\"secondary_y\": True}]])\n",
    "\n",
    "fig = px.bar(simple_yearly_md.apply(hundred).reset_index(), x=\"date\", y=[\"Russell 1000 Core\",'Russell 1000 Growth','Russell 1000 Value'],\n",
    "            barmode='group',\n",
    "             height=400) \n",
    "fig2 = px.line(simple_yearly_md.reset_index(),\n",
    "        x='date',\n",
    "        y='Inflation Change')\n",
    "\n",
    "subfig.update_layout(title= 'Yearly Returns (Pct) vs Changes in Inflation', yaxis_title=\"Returns\",)\n",
    "#fig.update_traces(line_color='#0000ff', line_width=5)\n",
    "fig2.update_traces(yaxis=\"y2\",line_color='#0F0A09')\n",
    "subfig.add_traces(fig.data + fig2.data)\n",
    "subfig.update_xaxes(nticks=20)\n",
    "subfig.update_xaxes(tickangle=45)\n",
    "subfig.update_yaxes(title_text=\"Inflation\", secondary_y=True)\n",
    "subfig.show()"
   ]
  },
  {
   "cell_type": "code",
   "execution_count": null,
   "id": "9135a5a8",
   "metadata": {},
   "outputs": [],
   "source": [
    "# Plots all 3 portfolio returns vs Inflation\n",
    "\n",
    "subfig = make_subplots(specs=[[{\"secondary_y\": True}]])\n",
    "\n",
    "fig = px.bar(simple_yearly_md.apply(hundred).reset_index(), x=\"date\", y=[\"Russell 1000 Core\",'Russell 1000 Growth','Russell 1000 Value'],\n",
    "            barmode='group',\n",
    "             height=400) \n",
    "fig2 = px.line(simple_yearly_md.reset_index(),\n",
    "        x='date',\n",
    "        y='Fed Rate Change')\n",
    "\n",
    "subfig.update_layout(title= 'Yearly Returns (Pct) vs Changes in Fed Rate', yaxis_title=\"Returns\",)\n",
    "#fig.update_traces(line_color='#0000ff', line_width=5)\n",
    "fig2.update_traces(yaxis=\"y2\",line_color='#0F0A09')\n",
    "subfig.add_traces(fig.data + fig2.data)\n",
    "subfig.update_xaxes(nticks=20)\n",
    "subfig.update_xaxes(tickangle=45)\n",
    "subfig.update_yaxes(title_text=\"Fed Rate Change\", secondary_y=True)\n",
    "subfig.show()"
   ]
  },
  {
   "cell_type": "code",
   "execution_count": null,
   "id": "c1fd4393",
   "metadata": {},
   "outputs": [],
   "source": [
    "# Plots all 3 portfolio returns vs Inflation\n",
    "\n",
    "subfig = make_subplots(specs=[[{\"secondary_y\": True}]])\n",
    "\n",
    "fig = px.bar(simple_yearly_md.apply(hundred).reset_index(), x=\"date\", y=[\"Russell 1000 Core\",'Russell 1000 Growth','Russell 1000 Value'],\n",
    "            barmode='group',\n",
    "             height=400) \n",
    "fig2 = px.line(simple_yearly_md.reset_index(),\n",
    "        x='date',\n",
    "        y='Unemployment Change')\n",
    "\n",
    "subfig.update_layout(title= 'Yearly Returns (Pct) vs Changes in Unemployment', yaxis_title=\"Returns\",)\n",
    "#fig.update_traces(line_color='#0000ff', line_width=5)\n",
    "fig2.update_traces(yaxis=\"y2\",line_color='#0F0A09')\n",
    "subfig.add_traces(fig.data + fig2.data)\n",
    "subfig.update_xaxes(nticks=20)\n",
    "subfig.update_xaxes(tickangle=45)\n",
    "subfig.update_yaxes(title_text=\"Unemployment Change\", secondary_y=True)\n",
    "subfig.show()"
   ]
  },
  {
   "cell_type": "markdown",
   "id": "3b7b9a1e",
   "metadata": {},
   "source": [
    "# Add Leading Indicators"
   ]
  },
  {
   "cell_type": "markdown",
   "id": "ff5eb171",
   "metadata": {},
   "source": [
    "# Renames Housing Start Column Headers\n",
    "\n",
    "housing_starts = housing_start_df.rename(columns = {'observation_date':'date', 'HOUST2FNSA':'Housing Starts'})\n",
    "\n",
    "#housing_starts"
   ]
  },
  {
   "cell_type": "code",
   "execution_count": null,
   "id": "317720f4",
   "metadata": {},
   "outputs": [],
   "source": [
    "#Creates Month, Day, Year Columns, and converts to numbers. \n",
    "housing_starts_df['Month'] = housing_starts_df['date'].astype(str).str.split('-').str[1]\n",
    "housing_starts_df['Day'] = housing_starts_df['date'].astype(str).str.split('-').str[2]\n",
    "housing_starts_df['YEAR'] = housing_starts_df['date'].astype(str).str.split('-').str[0]\n",
    "housing_starts_df[['Month', 'YEAR', 'Day']] = housing_starts_df[['Month', 'YEAR', 'Day']].apply(pd.to_numeric)\n",
    "\n",
    "# Adds century to YY\n",
    "#man_emp_df.loc[man_emp_df['YEAR'] + 2000 > currentYear, \"YEAR\"] = man_emp_df['YEAR'] + 1900\n",
    "#man_emp_df.loc[man_emp_df['YEAR'] + 2000 <= currentYear, \"YEAR\"] = man_emp_df['YEAR'] + 2000\n",
    "\n",
    "#Calculates Change and Percentage Change\n",
    "housing_starts_df['Housing Change'] =  housing_starts_df['Housing Starts'].shift(-1) - housing_starts_df['Housing Starts']\n",
    "housing_starts_df['Housing Change (Pct)'] = (housing_starts_df['Housing Change'] / housing_starts_df['Housing Starts'])*100\n",
    "\n",
    "#Sets index and removes unwanted columns / rows. \n",
    "housing_starts_df = housing_starts_df.set_index('YEAR')\n",
    "housing_starts_df = housing_starts_df.drop(columns = ['date','Day'])\n",
    "housing_starts_df = housing_starts_df[(housing_starts_df.index > 1978) & (housing_starts_df.index < 2016)]\n",
    "\n",
    "housing_starts_df\n"
   ]
  },
  {
   "cell_type": "code",
   "execution_count": null,
   "id": "3e87f71c",
   "metadata": {},
   "outputs": [],
   "source": [
    "# Pull Consumer Confidence Index data for US Only\n",
    "\n",
    "cci_df = cci_df.loc[cci_df['LOCATION'] == 'USA'].reset_index().drop(columns = 'index')\n",
    "\n",
    "#cci_df"
   ]
  },
  {
   "cell_type": "code",
   "execution_count": null,
   "id": "939b8673",
   "metadata": {},
   "outputs": [],
   "source": [
    "# Pull only necessary columns and rename. \n",
    "\n",
    "cci_df = cci_df[['TIME','Value']].rename(columns = {'TIME':'date'})\n",
    "\n",
    "#cci_df"
   ]
  },
  {
   "cell_type": "code",
   "execution_count": null,
   "id": "afaf9075",
   "metadata": {},
   "outputs": [],
   "source": [
    "#Creates Month, Day, Year Columns, and converts to numbers. \n",
    "cci_df['Month'] = cci_df['date'].str.split('-').str[1]\n",
    "cci_df['Day'] = cci_df['date'].str.split('-').str[2]\n",
    "cci_df['YEAR'] = cci_df['date'].str.split('-').str[0]\n",
    "cci_df[['Month', 'YEAR', 'Day']] = cci_df[['Month', 'YEAR', 'Day']].apply(pd.to_numeric)\n",
    "\n",
    "#Calculates Change and Percentage Change\n",
    "cci_df['CCI Change'] =  cci_df['Value'].shift(-1) - cci_df['Value']\n",
    "cci_df['CCI Change (Pct)'] = (cci_df['CCI Change'] / cci_df['Value'])*100\n",
    "\n",
    "#Sets index and removes unwanted columns / rows. \n",
    "cci_df = cci_df.set_index('YEAR')\n",
    "cci_df = cci_df.drop(columns = ['date','Day'])\n",
    "cci_df = cci_df[(cci_df.index > 1978) & (cci_df.index < 2016)]\n",
    "\n",
    "cci_df"
   ]
  },
  {
   "cell_type": "code",
   "execution_count": null,
   "id": "83577f51",
   "metadata": {},
   "outputs": [],
   "source": [
    "#Creates Month, Day, Year Columns, and converts to numbers. \n",
    "man_emp_df['Month'] = man_emp_df['date'].astype(str).str.split('-').str[1]\n",
    "man_emp_df['Day'] = man_emp_df['date'].astype(str).str.split('-').str[2]\n",
    "man_emp_df['YEAR'] = man_emp_df['date'].astype(str).str.split('-').str[0]\n",
    "man_emp_df[['Month', 'YEAR', 'Day']] = man_emp_df[['Month', 'YEAR', 'Day']].apply(pd.to_numeric)\n",
    "\n",
    "# Adds century to YY\n",
    "#man_emp_df.loc[man_emp_df['YEAR'] + 2000 > currentYear, \"YEAR\"] = man_emp_df['YEAR'] + 1900\n",
    "#man_emp_df.loc[man_emp_df['YEAR'] + 2000 <= currentYear, \"YEAR\"] = man_emp_df['YEAR'] + 2000\n",
    "\n",
    "#Calculates Change and Percentage Change\n",
    "man_emp_df['Man Emp Change'] =  man_emp_df['MANEMP'].shift(-1) - man_emp_df['MANEMP']\n",
    "man_emp_df['Man Emp Change (Pct)'] = (man_emp_df['Man Emp Change'] / man_emp_df['MANEMP'])*100\n",
    "\n",
    "#Sets index and removes unwanted columns / rows. \n",
    "man_emp_df = man_emp_df.set_index('YEAR')\n",
    "man_emp_df = man_emp_df.drop(columns = ['date','Day'])\n",
    "man_emp_df = man_emp_df[(man_emp_df.index > 1978) & (man_emp_df.index < 2016)]\n",
    "\n",
    "man_emp_df"
   ]
  },
  {
   "cell_type": "code",
   "execution_count": null,
   "id": "2ada5f6a",
   "metadata": {},
   "outputs": [],
   "source": [
    "#Creates Merged Frame off CCI, Housing Starts, and Manufacturing employment data. \n",
    "\n",
    "leading_merge = pd.merge(cci_df,housing_starts_df, on = ['YEAR', 'Month'], how = 'left').reset_index()\n",
    "leading_merge = pd.merge(leading_merge,man_emp_df, on = ['YEAR', 'Month'], how = 'left')\n",
    "\n",
    "#Creates Quarter Column and sets index. \n",
    "leading_merge['Quarter'] = leading_merge['Month'].apply(quartercalc)\n",
    "leading_merge = leading_merge.set_index(['YEAR','Quarter','Month'])\n",
    "\n",
    "leading_merge"
   ]
  },
  {
   "cell_type": "markdown",
   "id": "57bf1467",
   "metadata": {},
   "source": [
    "## Monthly - Leading"
   ]
  },
  {
   "cell_type": "code",
   "execution_count": null,
   "id": "d73667f9",
   "metadata": {},
   "outputs": [],
   "source": [
    "# Drops all Value and Pct Columns, as well as quarter to make monthly table. \n",
    "\n",
    "monthly_leading_join = leading_merge.reset_index().drop(columns = ['Quarter','Value','CCI Change (Pct)','Housing Starts','Housing Change (Pct)', 'MANEMP','Man Emp Change (Pct)'])\n",
    "monthly_strat_join = market_merge_df_compound.reset_index().drop(columns = ['Quarter','Fed Rate Change (Pct)','Unemployment Change (Pct)', 'Inflation Change (Pct)']).set_index(['YEAR','Month','date']).apply(percentreverse).reset_index()\n",
    "simple_leading_monthly_md = pd.merge(monthly_strat_join,monthly_leading_join, how = 'left', on = ['YEAR','Month']).drop(columns = ['YEAR','Month']).set_index('date')\n",
    "\n",
    "simple_leading_monthly_md\n"
   ]
  },
  {
   "cell_type": "code",
   "execution_count": null,
   "id": "95b84962",
   "metadata": {},
   "outputs": [],
   "source": [
    "# Plts heatmap showing leading data correlation. \n",
    "\n",
    "market_data_corr = simple_leading_monthly_md.reset_index().drop(columns = ['date']).corr()\n",
    "correlation = market_data_corr\n",
    "sn.heatmap(correlation, annot=True).set_title('Leading Correlation based on Monthly Values (Simple Indicator)')\n",
    "plt.show()"
   ]
  },
  {
   "cell_type": "markdown",
   "id": "f15d200b",
   "metadata": {},
   "source": [
    "## Quarterly - Leading"
   ]
  },
  {
   "cell_type": "code",
   "execution_count": null,
   "id": "1e0dd780",
   "metadata": {},
   "outputs": [],
   "source": [
    "# Creates Quarterly Leading MD table\n",
    "\n",
    "quarterly_leading_join = leading_merge[['CCI Change','Housing Change','Man Emp Change']].reset_index().drop(columns = 'Month').groupby(['YEAR','Quarter']).sum().reset_index()\n",
    "quarterly_strat_join = market_merge_df_compound.reset_index().drop(columns = ['Month','Fed Rate Change (Pct)','Unemployment Change (Pct)', 'Inflation Change (Pct)']).set_index(['YEAR','Quarter']).groupby(['YEAR','Quarter']).agg({'date':'max','Russell 1000 Core':'prod','Russell 1000 Growth':'prod','Russell 1000 Value':'prod'}).reset_index().set_index(['YEAR','Quarter','date']).apply(percentreverse).reset_index()\n",
    "simple_leading_quarterly_md = pd.merge(quarterly_strat_join,quarterly_leading_join, how = 'left', on = ['YEAR','Quarter']).drop(columns = ['YEAR','Quarter']).set_index('date')\n",
    "\n",
    "simple_leading_quarterly_md\n"
   ]
  },
  {
   "cell_type": "code",
   "execution_count": null,
   "id": "ded771bf",
   "metadata": {},
   "outputs": [],
   "source": [
    "# Plts heatmap showing quarterly leading data correlation. \n",
    "\n",
    "market_data_corr = simple_leading_quarterly_md.reset_index().drop(columns = ['date']).corr()\n",
    "correlation = market_data_corr\n",
    "sn.heatmap(correlation, annot=True).set_title('Leading Correlation based on Quarterly Values (Simple Indicator)')\n",
    "plt.show()"
   ]
  },
  {
   "cell_type": "markdown",
   "id": "f3849e8d",
   "metadata": {},
   "source": [
    "## Yearly - Leading"
   ]
  },
  {
   "cell_type": "code",
   "execution_count": null,
   "id": "3721ca2d",
   "metadata": {},
   "outputs": [],
   "source": [
    "# Creates Quarterly Leading MD table\n",
    "\n",
    "yearly_leading_join = leading_merge[['CCI Change','Housing Change','Man Emp Change']].reset_index().drop(columns = ['Month', 'Quarter']).groupby(['YEAR']).sum().reset_index()\n",
    "yearly_strat_join = market_merge_df_compound.reset_index().drop(columns = ['Month','Quarter','Fed Rate Change (Pct)','Unemployment Change (Pct)', 'Inflation Change (Pct)']).set_index(['YEAR']).groupby(['YEAR']).agg({'date':'max','Russell 1000 Core':'prod','Russell 1000 Growth':'prod','Russell 1000 Value':'prod'}).reset_index().set_index(['YEAR','date']).apply(percentreverse).reset_index()\n",
    "simple_leading_yearly_md = pd.merge(yearly_strat_join,yearly_leading_join, how = 'left', on = ['YEAR']).drop(columns = ['YEAR']).set_index('date')\n",
    "\n",
    "simple_leading_yearly_md\n"
   ]
  },
  {
   "cell_type": "code",
   "execution_count": null,
   "id": "e99e446e",
   "metadata": {
    "scrolled": true
   },
   "outputs": [],
   "source": [
    "# Plts heatmap showing yearly leading data correlation. \n",
    "\n",
    "market_data_corr = simple_leading_yearly_md.reset_index().drop(columns = ['date']).corr()\n",
    "correlation = market_data_corr\n",
    "sn.heatmap(correlation, annot=True).set_title('Leading Correlation based on Yearly Values (Simple Indicator)')\n",
    "plt.show()"
   ]
  },
  {
   "cell_type": "markdown",
   "id": "493b4390",
   "metadata": {},
   "source": [
    "# Factor Pick #2 (Leading)"
   ]
  },
  {
   "cell_type": "code",
   "execution_count": null,
   "id": "14f36876",
   "metadata": {},
   "outputs": [],
   "source": [
    "#Creates base model table from quarterly leading MD table\n",
    "indicator_leading = simple_leading_quarterly_md.copy()"
   ]
  },
  {
   "cell_type": "code",
   "execution_count": null,
   "id": "3914cc90",
   "metadata": {},
   "outputs": [],
   "source": [
    "# Assigns values to \"Flags\" used to determine which portfolio to use. \n",
    "# 1 = Value Weighted\n",
    "# - 1 = Growth Weighted\n",
    "# 0 = uncertain\n",
    "\n",
    "indicator_leading.loc[(indicator_leading['CCI Change']<0),'CCI Flag'] = 1\n",
    "indicator_leading.loc[(indicator_leading['CCI Change']>0),'CCI Flag'] = -1\n",
    "indicator_leading.loc[(indicator_leading['CCI Change']==0),'CCI Flag'] = 0\n",
    "indicator_leading.loc[(indicator_leading['Housing Change']<0),'Housing Flag'] = -1\n",
    "indicator_leading.loc[(indicator_leading['Housing Change']>0),'Housing Flag'] = 2 #Adding additional weight for high correlation\n",
    "indicator_leading.loc[(indicator_leading['Housing Change']==0),'Housing Flag'] = 0\n",
    "indicator_leading.loc[(indicator_leading['Man Emp Change']<0),'Man Emp Flag'] = -1\n",
    "indicator_leading.loc[(indicator_leading['Man Emp Change']>0),'Man Emp Flag'] = 2\n",
    "indicator_leading.loc[(indicator_leading['Man Emp Change']==0),'Man Emp Flag'] = 0\n"
   ]
  },
  {
   "cell_type": "code",
   "execution_count": null,
   "id": "6e5d90f2",
   "metadata": {},
   "outputs": [],
   "source": [
    "#Sums Flags to create a prediction\n",
    "#Positive numbers and 0s will use the Value weighted portfolio.\n",
    "#Negative numbers will use growth weighted. \n",
    "\n",
    "indicator_leading['Flag_Sum'] = indicator_leading['CCI Flag'] + indicator_leading['Housing Flag'] + indicator_leading['Man Emp Flag']\n",
    "indicator_leading\n"
   ]
  },
  {
   "cell_type": "code",
   "execution_count": null,
   "id": "aad5c59e",
   "metadata": {},
   "outputs": [],
   "source": [
    "# Assigns favored portfolios based on pick column.\n",
    "\n",
    "indicator_leading.loc[(indicator_leading['Flag_Sum'].shift() >0),'Favored'] = 'Russell 1000 Value'\n",
    "indicator_leading.loc[(indicator_leading['Flag_Sum'].shift() ==0),'Favored'] = 'Russell 1000 Value'\n",
    "indicator_leading.loc[(indicator_leading['Flag_Sum'].shift() <0),'Favored'] = 'Russell 1000 Growth'\n",
    "indicator_leading = indicator_leading.replace(np.nan, 'Russell 1000 Value')\n",
    "indicator_leading"
   ]
  },
  {
   "cell_type": "code",
   "execution_count": null,
   "id": "1c30b976",
   "metadata": {},
   "outputs": [],
   "source": [
    "# Checks to see which portfolio was held last quarter and determines if a Trade is necessary. \n",
    "\n",
    "indicator_leading.loc[indicator_leading['Favored'] != indicator_leading['Favored'].shift(), \"Trade/Hold\"] = \"Trade\"\n",
    "indicator_leading = indicator_leading.replace(np.nan, 'X')\n",
    "indicator_leading\n"
   ]
  },
  {
   "cell_type": "code",
   "execution_count": null,
   "id": "bf8252eb",
   "metadata": {},
   "outputs": [],
   "source": [
    "# Assigns Portfolio weights to model\n",
    "indicator_leading['Value Weighted Return'] = indicator_leading['Russell 1000 Core'] * .02 + indicator_leading['Russell 1000 Value'] * .97 + indicator_leading['Russell 1000 Growth'] * .01\n",
    "indicator_leading['Growth Weighted Return'] = indicator_leading['Russell 1000 Core'] * .1 + indicator_leading['Russell 1000 Growth'] * .2 + indicator_leading['Russell 1000 Value'] * .7\n",
    "indicator_leading['Core Weighted Return'] = indicator_leading['Russell 1000 Core'] * .2 + indicator_leading['Russell 1000 Value'] * .8 + indicator_leading['Russell 1000 Growth'] * .0\n",
    "\n",
    "# Creates rows with performance of all 3 strategies\n",
    "indicator_leading.loc[indicator_leading['Favored'] == 'Russell 1000 Core', \"Selection Return\"] =  indicator_leading['Value Weighted Return']\n",
    "indicator_leading.loc[indicator_leading['Favored'] == 'Russell 1000 Growth', \"Selection Return\"] =  indicator_leading['Growth Weighted Return']\n",
    "indicator_leading.loc[indicator_leading['Favored'] == 'Russell 1000 Value', \"Selection Return\"] =  indicator_leading['Value Weighted Return']\n",
    "\n",
    "indicator_leading['Favored'] = indicator_leading['Favored'].apply(portswitch)\n",
    "\n",
    "indicator_leading\n"
   ]
  },
  {
   "cell_type": "code",
   "execution_count": null,
   "id": "f4680a0d",
   "metadata": {},
   "outputs": [],
   "source": [
    "#Generates results table and calculates value of $100\n",
    "\n",
    "indicator_leading_results = indicator_leading[['Russell 1000 Core','Selection Return']].copy()\n",
    "indicator_leading_results.loc[indicator_leading_results.index[0], 'Core Portfolio Value'] = 100\n",
    "indicator_leading_results.loc[indicator_leading_results.index[0], 'Selection Portfolio Value'] = 100\n",
    "indicator_leading_results.loc[datetime.datetime.strptime('1978-12-31', '%Y-%m-%d').date()] = [0,0, 100,100]  # adding a row\n",
    "indicator_leading_results = indicator_leading_results.sort_index()\n",
    "for i in range(indicator_leading_results.index.size - 1):\n",
    "    indicator_leading_results['Core Portfolio Value'].iloc[i+1] = (indicator_leading_results['Russell 1000 Core'].apply(percentagecompound).iloc[i+1] * indicator_leading_results['Core Portfolio Value'].iloc[i])\n",
    "    indicator_leading_results['Selection Portfolio Value'].iloc[i+1] = (indicator_leading_results['Selection Return'].apply(percentagecompound).iloc[i+1] * indicator_leading_results['Selection Portfolio Value'].iloc[i])\n",
    "\n",
    "indicator_leading_results\n"
   ]
  },
  {
   "cell_type": "code",
   "execution_count": null,
   "id": "caa7eb44",
   "metadata": {},
   "outputs": [],
   "source": [
    "#Generates results table and calculates value of $100\n",
    "\n",
    "indicator_leading_trade_view = indicator_leading[['Russell 1000 Core','Russell 1000 Value','Russell 1000 Growth','Selection Return','Favored','Trade/Hold']].copy()\n",
    "indicator_leading_trade_view.loc[indicator_leading_trade_view.index[0], 'Core Portfolio Value'] = 100\n",
    "indicator_leading_trade_view.loc[indicator_leading_trade_view.index[0], 'Selection Portfolio Value'] = 100\n",
    "indicator_leading_trade_view.loc[datetime.datetime.strptime('1978-12-31', '%Y-%m-%d').date()] = [0,0, 0,0,'Value Weighted','X',100,100]  # adding a row\n",
    "indicator_leading_trade_view = indicator_leading_trade_view.sort_index()\n",
    "for i in range(indicator_leading_trade_view.index.size - 1):\n",
    "    indicator_leading_trade_view['Core Portfolio Value'].iloc[i+1] = (indicator_leading_trade_view['Russell 1000 Core'].apply(percentagecompound).iloc[i+1] * indicator_leading_trade_view['Core Portfolio Value'].iloc[i])\n",
    "    indicator_leading_trade_view['Selection Portfolio Value'].iloc[i+1] = (indicator_leading_trade_view['Selection Return'].apply(percentagecompound).iloc[i+1] * indicator_leading_trade_view['Selection Portfolio Value'].iloc[i])\n",
    "\n",
    "# Calculates the beginning index weights of portfolio based on \n",
    "indicator_leading_trade_view.loc[indicator_leading_trade_view['Favored'] == 'Value Weighted' , \"Beginning Value Allocation\"] =  indicator_leading_trade_view['Selection Portfolio Value'].shift() * .97\n",
    "indicator_leading_trade_view.loc[indicator_leading_trade_view['Favored'] == 'Value Weighted' , \"Beginning Core Allocation\"] =  indicator_leading_trade_view['Selection Portfolio Value'].shift() * .02\n",
    "indicator_leading_trade_view.loc[indicator_leading_trade_view['Favored'] == 'Value Weighted' , \"Beginning Growth Allocation\"] =  indicator_leading_trade_view['Selection Portfolio Value'].shift() * .01\n",
    "indicator_leading_trade_view.loc[indicator_leading_trade_view['Favored'] == 'Growth Weighted' , \"Beginning Value Allocation\"] =  indicator_leading_trade_view['Selection Portfolio Value'].shift() * .7\n",
    "indicator_leading_trade_view.loc[indicator_leading_trade_view['Favored'] == 'Growth Weighted' , \"Beginning Core Allocation\"] =  indicator_leading_trade_view['Selection Portfolio Value'].shift() * .1\n",
    "indicator_leading_trade_view.loc[indicator_leading_trade_view['Favored'] == 'Growth Weighted' , \"Beginning Growth Allocation\"] =  indicator_leading_trade_view['Selection Portfolio Value'].shift() * .2\n",
    "\n",
    "#Calculate ending portfolio allocations, by multiplying weights against ending portfolio value for the month\n",
    "\n",
    "indicator_leading_trade_view['Ending Value Allocation'] = indicator_leading_trade_view['Beginning Value Allocation'] * (indicator_leading_trade_view['Russell 1000 Value'].apply(percentagecompound))\n",
    "indicator_leading_trade_view['Ending Core Allocation'] = indicator_leading_trade_view['Beginning Core Allocation'] * (indicator_leading_trade_view['Russell 1000 Core'].apply(percentagecompound))\n",
    "indicator_leading_trade_view['Ending Growth Allocation'] = indicator_leading_trade_view['Beginning Growth Allocation'] * (indicator_leading_trade_view['Russell 1000 Growth'].apply(percentagecompound))\n",
    "\n",
    "#Calculates beginning percent by dividing Beginning Value Allocation and last months selection portfolio value - Should always equal weightings of the created portfolios. \n",
    "\n",
    "indicator_leading_trade_view['Beginning Value Percent'] = indicator_leading_trade_view['Beginning Value Allocation'] / indicator_leading_trade_view['Selection Portfolio Value'].shift()\n",
    "indicator_leading_trade_view['Beginning Core Percent'] = indicator_leading_trade_view['Beginning Core Allocation'] / indicator_leading_trade_view['Selection Portfolio Value'].shift()\n",
    "indicator_leading_trade_view['Beginning Growth Percent'] = indicator_leading_trade_view['Beginning Growth Allocation'] / indicator_leading_trade_view['Selection Portfolio Value'].shift()\n",
    "\n",
    "#Determines ending value percentages by dividing end allocation and the selection portfolio value\n",
    "\n",
    "indicator_leading_trade_view['Ending Value Percent'] = (indicator_leading_trade_view['Ending Value Allocation'] / indicator_leading_trade_view['Selection Portfolio Value']).round(4)\n",
    "indicator_leading_trade_view['Ending Core Percent'] = (indicator_leading_trade_view['Ending Core Allocation'] / indicator_leading_trade_view['Selection Portfolio Value']).round(4)\n",
    "indicator_leading_trade_view['Ending Growth Percent'] = (indicator_leading_trade_view['Ending Growth Allocation'] / indicator_leading_trade_view['Selection Portfolio Value']).round(4)\n",
    "\n",
    "# Determines trade size and value in pct. \n",
    "\n",
    "indicator_leading_trade_view['Value Trade'] = (indicator_leading_trade_view['Beginning Value Percent'] - indicator_leading_trade_view['Ending Value Percent'].shift()).round(4)\n",
    "indicator_leading_trade_view['Core Trade'] = (indicator_leading_trade_view['Beginning Core Percent'] - indicator_leading_trade_view['Ending Core Percent'].shift()).round(4)\n",
    "indicator_leading_trade_view['Growth Trade'] = (indicator_leading_trade_view['Beginning Growth Percent'] - indicator_leading_trade_view['Ending Growth Percent'].shift()).round(4)\n",
    "indicator_leading_trade_view = indicator_leading_trade_view.replace(np.nan,0)\n",
    "\n",
    "# Updates Trade columns to directional strings. \n",
    "\n",
    "indicator_leading_trade_view['Value Trade'] = indicator_leading_trade_view['Value Trade'].apply(advtradeflag)\n",
    "indicator_leading_trade_view['Core Trade'] = indicator_leading_trade_view['Core Trade'].apply(advtradeflag)\n",
    "indicator_leading_trade_view['Growth Trade'] = indicator_leading_trade_view['Growth Trade'].apply(advtradeflag)\n",
    "\n",
    "pd.set_option('display.max_rows',20)\n",
    "pd.set_option('display.max_columns',20)\n",
    "\n",
    "#indicator_leading_results = indicator_leading_results['']\n",
    "\n",
    "indicator_leading_trade_view.loc[((indicator_leading_trade_view['Value Trade'] == 'Do Not Trade') & (indicator_leading_trade_view['Core Trade'] == 'Do Not Trade') & (indicator_leading_trade_view['Growth Trade'] == 'Do Not Trade')), 'NewTradeFlag'] = 'X'\n",
    "#indicator_leading_trade_view[1:]\n",
    "#indicator_leading_trade_view = indicator_leading_trade_view.loc[indicator_leading_trade_view['Trade/Hold'] == 'Trade']\n",
    "indicator_leading_trade_view['NewTradeFlag'] = indicator_leading_trade_view['NewTradeFlag'].replace(np.nan,'Trade')\n",
    "indicator_leading_trade_view = indicator_leading_trade_view[['Favored','Trade/Hold','NewTradeFlag','Beginning Value Percent','Beginning Core Percent','Beginning Growth Percent','Ending Value Percent','Ending Core Percent','Ending Growth Percent','Value Trade','Core Trade','Growth Trade']][1:]\n",
    "indicator_leading_trade_view = indicator_leading_trade_view.loc[(indicator_leading_trade_view['Trade/Hold'] == 'Trade') & (indicator_leading_trade_view['NewTradeFlag'] == 'Trade')].drop(columns = 'NewTradeFlag')\n",
    "indicator_leading_trade_view\n"
   ]
  },
  {
   "cell_type": "code",
   "execution_count": null,
   "id": "238c610a",
   "metadata": {},
   "outputs": [],
   "source": [
    "indicator_leading_Ret = ((indicator_leading[['Russell 1000 Core','Russell 1000 Growth','Russell 1000 Value','Selection Return']].apply(percentagecompound).prod() ** (1/time_period) - 1)*100).reset_index().rename(columns = {'index': 'Strategy',0:'Annualized Return'})\n",
    "indicator_leading_Std = (indicator_leading[['Russell 1000 Core','Russell 1000 Growth','Russell 1000 Value','Selection Return']].std().apply(annualfromquarterlystd)*100).reset_index().rename(columns = {'index': 'Strategy',0:'Annualized Std'})\n",
    "indicator_leading_Stats = pd.merge(indicator_leading_Ret, indicator_leading_Std, on='Strategy', how = 'left')\n",
    "indicator_leading_Stats['Sharpe'] = ((indicator_leading_Stats['Annualized Return'] - 2) / indicator_leading_Stats['Annualized Std']).round(2)\n",
    "indicator_leading_Stats = indicator_leading_Stats.set_index('Strategy')\n",
    "indicator_leading_Stats\n"
   ]
  },
  {
   "cell_type": "code",
   "execution_count": null,
   "id": "74a9a2af",
   "metadata": {
    "scrolled": false
   },
   "outputs": [],
   "source": [
    "#Calculates Annualized Return\n",
    "\n",
    "((indicator_leading[['Russell 1000 Core','Russell 1000 Growth','Russell 1000 Value','Selection Return']].apply(percentagecompound).prod() ** (1/time_period) - 1)*100).reset_index().rename(columns = {'index': 'Strategy',0:'Annualized Return'})\n"
   ]
  },
  {
   "cell_type": "code",
   "execution_count": null,
   "id": "221db8a9",
   "metadata": {
    "scrolled": false
   },
   "outputs": [],
   "source": [
    "#Calculates number of trades over period\n",
    "\n",
    "indicator_leading_trades = indicator_leading[['Russell 1000 Core','Trade/Hold']].groupby('Trade/Hold').count().rename(columns = {'Russell 1000 Core':'Total'})\n",
    "indicator_leading_trades['Average Yearly Trades'] = indicator_leading_trades['Total'] / time_period\n",
    "indicator_leading_trades['Average Yearly Trades'] = indicator_leading_trades['Average Yearly Trades'].round(1)\n",
    "indicator_leading_trades = indicator_leading_trades.drop('X')\n",
    "indicator_leading_trades\n"
   ]
  },
  {
   "cell_type": "code",
   "execution_count": null,
   "id": "77c8c33c",
   "metadata": {},
   "outputs": [],
   "source": [
    "#Plots selected portfolio vs Russell 1000 Core over period. \n",
    "\n",
    "fig = px.line(indicator_leading_results.reset_index(), x = 'date', y=['Core Portfolio Value','Selection Portfolio Value'], title='Core vs Indicator Selection v2')\n",
    "fig.show()"
   ]
  },
  {
   "cell_type": "code",
   "execution_count": null,
   "id": "b5ee46ee",
   "metadata": {},
   "outputs": [],
   "source": [
    "# Value of $100 DF\n",
    "\n",
    "indicator_leading_results[['Core Portfolio Value','Selection Portfolio Value']].iloc[-1].round(2).reset_index().rename(columns = {'index':'Portfolio', 0:'Ending Port Val'}).set_index('Portfolio').style.set_caption('Value of $100')\n"
   ]
  },
  {
   "cell_type": "code",
   "execution_count": null,
   "id": "5c9f7839",
   "metadata": {},
   "outputs": [],
   "source": [
    "# Trade Schedule \n",
    "\n",
    "indicator_leading_trade_pivot = indicator_leading[['Trade/Hold','Favored']].reset_index()\n",
    "indicator_leading_trade_pivot.loc[indicator_leading_trade_pivot['Trade/Hold'] == 'Trade', 'Trade/Hold' ] = indicator_leading_trade_pivot['Trade/Hold'] + \" - \" + indicator_leading_trade_pivot['Favored']#momentum_2_trade_pivot = momentum_2_trade_pivot.drop(columns = 'Pick')\n",
    "indicator_leading_trade_pivot = indicator_leading_trade_pivot.drop(columns = 'Favored')\n",
    "indicator_leading_trade_pivot['Month'] = indicator_leading_trade_pivot['date'].astype(str).str.split('-').str[1]\n",
    "indicator_leading_trade_pivot['Year'] = indicator_leading_trade_pivot['date'].astype(str).str.split('-').str[0]\n",
    "indicator_leading_trade_pivot = indicator_leading_trade_pivot.drop(columns = 'date').pivot(index = 'Year', columns = 'Month').rename(columns = {'03': 'Qtr 1','06': 'Qtr 2','09': 'Qtr 3','12': 'Qtr 4'}).style.apply(lambda x: [\"background: green\" if 'Trade' in value else \"\" for value in x], axis = 1)\n",
    "indicator_leading_trade_pivot\n"
   ]
  }
 ],
 "metadata": {
  "kernelspec": {
   "display_name": "Python 3 (ipykernel)",
   "language": "python",
   "name": "python3"
  },
  "language_info": {
   "codemirror_mode": {
    "name": "ipython",
    "version": 3
   },
   "file_extension": ".py",
   "mimetype": "text/x-python",
   "name": "python",
   "nbconvert_exporter": "python",
   "pygments_lexer": "ipython3",
   "version": "3.8.5"
  }
 },
 "nbformat": 4,
 "nbformat_minor": 5
}
